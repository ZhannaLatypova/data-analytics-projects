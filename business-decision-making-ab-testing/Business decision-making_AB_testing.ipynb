{
 "cells": [
  {
   "cell_type": "markdown",
   "id": "82f9c23b",
   "metadata": {},
   "source": [
    "<div class=\"alert alert-block alert-info\">\n",
    "<font size=\"5\">\n",
    "<center><b> ПРИНЯТИЕ РЕШЕНИЯ В БИЗНЕСЕ С ПОМОЩЬЮ A/B-ТЕСТА</b></center>\n",
    "</font>\n",
    "    </div> "
   ]
  },
  {
   "cell_type": "markdown",
   "id": "bfa14a3d",
   "metadata": {},
   "source": [
    "<span class=\"mark\">**Описание проекта**</span>\n",
    "\n",
    "Вы — аналитик крупного интернет-магазина. Вместе с отделом маркетинга вы подготовили список гипотез для увеличения выручки.\n",
    "\n",
    "Приоритизируйте гипотезы, запустите A/B-тест и проанализируйте результаты."
   ]
  },
  {
   "cell_type": "markdown",
   "id": "3b500365",
   "metadata": {},
   "source": [
    "<span class=\"mark\">**Часть 1. Приоритизация гипотез.**</span>\n",
    "\n",
    "В файле `/datasets/hypothesis.csv` 9 гипотез по увеличению выручки интернет-магазина с указанными параметрами `Reach`, `Impact`, `Confidence`, `Effort`.\n",
    "\n",
    "<span class=\"mark\">**Задача**</span>\n",
    "\n",
    "- Примените фреймворк ICE для приоритизации гипотез. Отсортируйте их по убыванию приоритета.\n",
    "- Примените фреймворк RICE для приоритизации гипотез. Отсортируйте их по убыванию приоритета.\n",
    "- Укажите, как изменилась приоритизация гипотез при применении RICE вместо ICE. Объясните, почему так произошло.\n",
    "\n",
    "<span class=\"mark\">**Описание данных**</span>\n",
    "\n",
    "Файл /datasets/hypothesis.csv. Скачать датасет\n",
    "\n",
    "- `Hypothesis` — краткое описание гипотезы;\n",
    "- `Reach` — охват пользователей по 10-балльной шкале;\n",
    "- `Impact` — влияние на пользователей по 10-балльной шкале;\n",
    "- `Confidence` — уверенность в гипотезе по 10-балльной шкале;\n",
    "- `Efforts` — затраты ресурсов на проверку гипотезы по 10-балльной шкале. Чем больше значение Efforts, тем дороже проверка гипотезы."
   ]
  },
  {
   "cell_type": "markdown",
   "id": "523e4a02",
   "metadata": {},
   "source": [
    "<span class=\"mark\">**Часть 2. Анализ A/B-теста**</span>\n",
    "\n",
    "Вы провели A/B-тест и получили результаты, которые описаны в файлах `/datasets/orders.csv и /datasets/visitors.csv.`\n",
    "\n",
    "<span class=\"mark\">**Задача**</span>\n",
    "\n",
    "Проанализируйте A/B-тест:\n",
    "\n",
    "1. Постройте график кумулятивной выручки по группам. Сделайте выводы и предположения.\n",
    "2. Постройте график кумулятивного среднего чека по группам. Сделайте выводы и предположения.\n",
    "3. Постройте график относительного изменения кумулятивного среднего чека группы B к группе A. Сделайте выводы и предположения.\n",
    "4. Постройте график кумулятивного среднего количества заказов по группам. Сделайте выводы и предположения.\n",
    "5. Постройте график относительного изменения кумулятивного среднего количества заказов группы B к группе A. Сделайте выводы и предположения.\n",
    "6. Постройте точечный график количества заказов по пользователям. Сделайте выводы и предположения.\n",
    "7. Посчитайте 95-й и 99-й перцентили количества заказов на пользователя. Выберите границу для определения аномальных пользователей.\n",
    "8. Постройте точечный график стоимостей заказов. Сделайте выводы и предположения.\n",
    "9. Посчитайте 95-й и 99-й перцентили стоимости заказов. Выберите границу для определения аномальных заказов.\n",
    "10. Посчитайте статистическую значимость различий в среднем количестве заказов между группами по «сырым» данным. Сделайте выводы и предположения.\n",
    "11. Посчитайте статистическую значимость различий в среднем чеке заказа между группами по «сырым» данным. Сделайте выводы и предположения.\n",
    "12. Посчитайте статистическую значимость различий в среднем количестве заказов между группами по «очищенным» данным. Сделайте выводы и предположения.\n",
    "13. Посчитайте статистическую значимость различий в среднем чеке заказа между группами по «очищенным» данным. Сделайте выводы и предположения.\n",
    "14. Примите решение по результатам теста и объясните его. Варианты решений: 1. Остановить тест, зафиксировать победу одной из групп. 2. Остановить тест, зафиксировать отсутствие различий между группами. 3. Продолжить тест.\n",
    "\n",
    "<span class=\"mark\">**Описание данных**</span>\n",
    "\n",
    "Файл /datasets/orders.csv. Скачать датасет\n",
    "- `transactionId` — идентификатор заказа;\n",
    "- `visitorId` — идентификатор пользователя, совершившего заказ;\n",
    "- `date` — дата, когда был совершён заказ;\n",
    "- `revenue` — выручка заказа;\n",
    "- `group` — группа A/B-теста, в которую попал заказ.\n",
    "\n",
    "Файл /datasets/visitors.csv. Скачать датасет\n",
    "- `date` — дата;\n",
    "- `group` — группа A/B-теста;\n",
    "- `visitors` — количество пользователей в указанную дату в указанной группе A/B-теста\n"
   ]
  },
  {
   "cell_type": "markdown",
   "id": "e7e5e558",
   "metadata": {},
   "source": [
    "# Выполнение проекта"
   ]
  },
  {
   "cell_type": "markdown",
   "id": "fb5b09b7",
   "metadata": {},
   "source": [
    "## Загрузим данные и подготовим их к анализу"
   ]
  },
  {
   "cell_type": "markdown",
   "id": "8d89818f",
   "metadata": {},
   "source": [
    "Загрузим данные о визитах, заказах и рекламных расходах из CSV-файлов в переменные.\n",
    "\n",
    "Изучим данные и выполним предобработку. "
   ]
  },
  {
   "cell_type": "code",
   "execution_count": 1,
   "id": "bb312fca",
   "metadata": {},
   "outputs": [],
   "source": [
    "# Загружаем библиотеки\n",
    "import pandas as pd\n",
    "import numpy as np\n",
    "import math as mth\n",
    "from scipy import stats as stats\n",
    "from datetime import datetime, timedelta\n",
    "from matplotlib.pyplot import figure\n",
    "import warnings\n",
    "warnings.filterwarnings('ignore')\n",
    "import matplotlib.pyplot as plt\n",
    "from pandas.plotting import register_matplotlib_converters\n"
   ]
  },
  {
   "cell_type": "markdown",
   "id": "d487adc6",
   "metadata": {},
   "source": [
    "### Откроем файл `/datasets/hypothesis.csv` с данными и изучим общую информацию"
   ]
  },
  {
   "cell_type": "code",
   "execution_count": 2,
   "id": "f3282f32",
   "metadata": {},
   "outputs": [],
   "source": [
    "hypothesis = pd.read_csv('https://code.s3.yandex.net/datasets/hypothesis.csv')"
   ]
  },
  {
   "cell_type": "code",
   "execution_count": 3,
   "id": "341eb65e",
   "metadata": {},
   "outputs": [
    {
     "data": {
      "text/html": [
       "<div>\n",
       "<style scoped>\n",
       "    .dataframe tbody tr th:only-of-type {\n",
       "        vertical-align: middle;\n",
       "    }\n",
       "\n",
       "    .dataframe tbody tr th {\n",
       "        vertical-align: top;\n",
       "    }\n",
       "\n",
       "    .dataframe thead th {\n",
       "        text-align: right;\n",
       "    }\n",
       "</style>\n",
       "<table border=\"1\" class=\"dataframe\">\n",
       "  <thead>\n",
       "    <tr style=\"text-align: right;\">\n",
       "      <th></th>\n",
       "      <th>Hypothesis</th>\n",
       "      <th>Reach</th>\n",
       "      <th>Impact</th>\n",
       "      <th>Confidence</th>\n",
       "      <th>Efforts</th>\n",
       "    </tr>\n",
       "  </thead>\n",
       "  <tbody>\n",
       "    <tr>\n",
       "      <th>0</th>\n",
       "      <td>Добавить два новых канала привлечения трафика,...</td>\n",
       "      <td>3</td>\n",
       "      <td>10</td>\n",
       "      <td>8</td>\n",
       "      <td>6</td>\n",
       "    </tr>\n",
       "    <tr>\n",
       "      <th>1</th>\n",
       "      <td>Запустить собственную службу доставки, что сок...</td>\n",
       "      <td>2</td>\n",
       "      <td>5</td>\n",
       "      <td>4</td>\n",
       "      <td>10</td>\n",
       "    </tr>\n",
       "    <tr>\n",
       "      <th>2</th>\n",
       "      <td>Добавить блоки рекомендаций товаров на сайт ин...</td>\n",
       "      <td>8</td>\n",
       "      <td>3</td>\n",
       "      <td>7</td>\n",
       "      <td>3</td>\n",
       "    </tr>\n",
       "    <tr>\n",
       "      <th>3</th>\n",
       "      <td>Изменить структура категорий, что увеличит кон...</td>\n",
       "      <td>8</td>\n",
       "      <td>3</td>\n",
       "      <td>3</td>\n",
       "      <td>8</td>\n",
       "    </tr>\n",
       "    <tr>\n",
       "      <th>4</th>\n",
       "      <td>Изменить цвет фона главной страницы, чтобы уве...</td>\n",
       "      <td>3</td>\n",
       "      <td>1</td>\n",
       "      <td>1</td>\n",
       "      <td>1</td>\n",
       "    </tr>\n",
       "  </tbody>\n",
       "</table>\n",
       "</div>"
      ],
      "text/plain": [
       "                                          Hypothesis  Reach  Impact  \\\n",
       "0  Добавить два новых канала привлечения трафика,...      3      10   \n",
       "1  Запустить собственную службу доставки, что сок...      2       5   \n",
       "2  Добавить блоки рекомендаций товаров на сайт ин...      8       3   \n",
       "3  Изменить структура категорий, что увеличит кон...      8       3   \n",
       "4  Изменить цвет фона главной страницы, чтобы уве...      3       1   \n",
       "\n",
       "   Confidence  Efforts  \n",
       "0           8        6  \n",
       "1           4       10  \n",
       "2           7        3  \n",
       "3           3        8  \n",
       "4           1        1  "
      ]
     },
     "execution_count": 3,
     "metadata": {},
     "output_type": "execute_result"
    }
   ],
   "source": [
    "# Изучим таблицу\n",
    "hypothesis.head(5)"
   ]
  },
  {
   "cell_type": "code",
   "execution_count": 4,
   "id": "04abceb0",
   "metadata": {},
   "outputs": [
    {
     "data": {
      "text/html": [
       "<div>\n",
       "<style scoped>\n",
       "    .dataframe tbody tr th:only-of-type {\n",
       "        vertical-align: middle;\n",
       "    }\n",
       "\n",
       "    .dataframe tbody tr th {\n",
       "        vertical-align: top;\n",
       "    }\n",
       "\n",
       "    .dataframe thead th {\n",
       "        text-align: right;\n",
       "    }\n",
       "</style>\n",
       "<table border=\"1\" class=\"dataframe\">\n",
       "  <thead>\n",
       "    <tr style=\"text-align: right;\">\n",
       "      <th></th>\n",
       "      <th>hypothesis</th>\n",
       "      <th>reach</th>\n",
       "      <th>impact</th>\n",
       "      <th>confidence</th>\n",
       "      <th>efforts</th>\n",
       "    </tr>\n",
       "  </thead>\n",
       "  <tbody>\n",
       "    <tr>\n",
       "      <th>0</th>\n",
       "      <td>Добавить два новых канала привлечения трафика,...</td>\n",
       "      <td>3</td>\n",
       "      <td>10</td>\n",
       "      <td>8</td>\n",
       "      <td>6</td>\n",
       "    </tr>\n",
       "    <tr>\n",
       "      <th>1</th>\n",
       "      <td>Запустить собственную службу доставки, что сок...</td>\n",
       "      <td>2</td>\n",
       "      <td>5</td>\n",
       "      <td>4</td>\n",
       "      <td>10</td>\n",
       "    </tr>\n",
       "    <tr>\n",
       "      <th>2</th>\n",
       "      <td>Добавить блоки рекомендаций товаров на сайт ин...</td>\n",
       "      <td>8</td>\n",
       "      <td>3</td>\n",
       "      <td>7</td>\n",
       "      <td>3</td>\n",
       "    </tr>\n",
       "  </tbody>\n",
       "</table>\n",
       "</div>"
      ],
      "text/plain": [
       "                                          hypothesis  reach  impact  \\\n",
       "0  Добавить два новых канала привлечения трафика,...      3      10   \n",
       "1  Запустить собственную службу доставки, что сок...      2       5   \n",
       "2  Добавить блоки рекомендаций товаров на сайт ин...      8       3   \n",
       "\n",
       "   confidence  efforts  \n",
       "0           8        6  \n",
       "1           4       10  \n",
       "2           7        3  "
      ]
     },
     "execution_count": 4,
     "metadata": {},
     "output_type": "execute_result"
    }
   ],
   "source": [
    "# Заменим названия столбцов к нижнему регистру\n",
    "hypothesis.columns = hypothesis.columns.str.lower()\n",
    "hypothesis.head(3)"
   ]
  },
  {
   "cell_type": "code",
   "execution_count": 5,
   "id": "757b07c5",
   "metadata": {},
   "outputs": [
    {
     "name": "stdout",
     "output_type": "stream",
     "text": [
      "<class 'pandas.core.frame.DataFrame'>\n",
      "RangeIndex: 9 entries, 0 to 8\n",
      "Data columns (total 5 columns):\n",
      " #   Column      Non-Null Count  Dtype \n",
      "---  ------      --------------  ----- \n",
      " 0   hypothesis  9 non-null      object\n",
      " 1   reach       9 non-null      int64 \n",
      " 2   impact      9 non-null      int64 \n",
      " 3   confidence  9 non-null      int64 \n",
      " 4   efforts     9 non-null      int64 \n",
      "dtypes: int64(4), object(1)\n",
      "memory usage: 488.0+ bytes\n"
     ]
    }
   ],
   "source": [
    "# Изучаем столбцы и их типы\n",
    "hypothesis.info()"
   ]
  },
  {
   "cell_type": "code",
   "execution_count": 6,
   "id": "ac21d56c",
   "metadata": {},
   "outputs": [
    {
     "data": {
      "text/html": [
       "<style type=\"text/css\">\n",
       "#T_c00a4_row0_col0, #T_c00a4_row1_col0, #T_c00a4_row2_col0, #T_c00a4_row3_col0, #T_c00a4_row4_col0 {\n",
       "  background-color: #f7fcfd;\n",
       "  color: #000000;\n",
       "}\n",
       "</style>\n",
       "<table id=\"T_c00a4\">\n",
       "  <thead>\n",
       "    <tr>\n",
       "      <th class=\"blank level0\" >&nbsp;</th>\n",
       "      <th id=\"T_c00a4_level0_col0\" class=\"col_heading level0 col0\" >0</th>\n",
       "    </tr>\n",
       "  </thead>\n",
       "  <tbody>\n",
       "    <tr>\n",
       "      <th id=\"T_c00a4_level0_row0\" class=\"row_heading level0 row0\" >hypothesis</th>\n",
       "      <td id=\"T_c00a4_row0_col0\" class=\"data row0 col0\" >0.000000</td>\n",
       "    </tr>\n",
       "    <tr>\n",
       "      <th id=\"T_c00a4_level0_row1\" class=\"row_heading level0 row1\" >reach</th>\n",
       "      <td id=\"T_c00a4_row1_col0\" class=\"data row1 col0\" >0.000000</td>\n",
       "    </tr>\n",
       "    <tr>\n",
       "      <th id=\"T_c00a4_level0_row2\" class=\"row_heading level0 row2\" >impact</th>\n",
       "      <td id=\"T_c00a4_row2_col0\" class=\"data row2 col0\" >0.000000</td>\n",
       "    </tr>\n",
       "    <tr>\n",
       "      <th id=\"T_c00a4_level0_row3\" class=\"row_heading level0 row3\" >confidence</th>\n",
       "      <td id=\"T_c00a4_row3_col0\" class=\"data row3 col0\" >0.000000</td>\n",
       "    </tr>\n",
       "    <tr>\n",
       "      <th id=\"T_c00a4_level0_row4\" class=\"row_heading level0 row4\" >efforts</th>\n",
       "      <td id=\"T_c00a4_row4_col0\" class=\"data row4 col0\" >0.000000</td>\n",
       "    </tr>\n",
       "  </tbody>\n",
       "</table>\n"
      ],
      "text/plain": [
       "<pandas.io.formats.style.Styler at 0x7f7bf3633e50>"
      ]
     },
     "execution_count": 6,
     "metadata": {},
     "output_type": "execute_result"
    }
   ],
   "source": [
    "# Проверим наличие пропусков в каждом столбце(%)\n",
    "pd.DataFrame(round(hypothesis.isna().mean()*100,)).style.background_gradient('BuPu')"
   ]
  },
  {
   "cell_type": "code",
   "execution_count": 7,
   "id": "001549d7",
   "metadata": {},
   "outputs": [
    {
     "data": {
      "text/plain": [
       "0"
      ]
     },
     "execution_count": 7,
     "metadata": {},
     "output_type": "execute_result"
    }
   ],
   "source": [
    "# Проверим наличие дубликатов\n",
    "hypothesis.duplicated().sum()"
   ]
  },
  {
   "cell_type": "markdown",
   "id": "450ae9d7",
   "metadata": {},
   "source": [
    "### Откроем файл `datasets/orders.csv` с данными и изучим общую информацию"
   ]
  },
  {
   "cell_type": "code",
   "execution_count": 8,
   "id": "3eb02517",
   "metadata": {},
   "outputs": [],
   "source": [
    "orders = pd.read_csv('https://code.s3.yandex.net/datasets/orders.csv')"
   ]
  },
  {
   "cell_type": "code",
   "execution_count": 9,
   "id": "2422da32",
   "metadata": {},
   "outputs": [
    {
     "data": {
      "text/html": [
       "<div>\n",
       "<style scoped>\n",
       "    .dataframe tbody tr th:only-of-type {\n",
       "        vertical-align: middle;\n",
       "    }\n",
       "\n",
       "    .dataframe tbody tr th {\n",
       "        vertical-align: top;\n",
       "    }\n",
       "\n",
       "    .dataframe thead th {\n",
       "        text-align: right;\n",
       "    }\n",
       "</style>\n",
       "<table border=\"1\" class=\"dataframe\">\n",
       "  <thead>\n",
       "    <tr style=\"text-align: right;\">\n",
       "      <th></th>\n",
       "      <th>transactionId</th>\n",
       "      <th>visitorId</th>\n",
       "      <th>date</th>\n",
       "      <th>revenue</th>\n",
       "      <th>group</th>\n",
       "    </tr>\n",
       "  </thead>\n",
       "  <tbody>\n",
       "    <tr>\n",
       "      <th>0</th>\n",
       "      <td>3667963787</td>\n",
       "      <td>3312258926</td>\n",
       "      <td>2019-08-15</td>\n",
       "      <td>1650</td>\n",
       "      <td>B</td>\n",
       "    </tr>\n",
       "    <tr>\n",
       "      <th>1</th>\n",
       "      <td>2804400009</td>\n",
       "      <td>3642806036</td>\n",
       "      <td>2019-08-15</td>\n",
       "      <td>730</td>\n",
       "      <td>B</td>\n",
       "    </tr>\n",
       "    <tr>\n",
       "      <th>2</th>\n",
       "      <td>2961555356</td>\n",
       "      <td>4069496402</td>\n",
       "      <td>2019-08-15</td>\n",
       "      <td>400</td>\n",
       "      <td>A</td>\n",
       "    </tr>\n",
       "    <tr>\n",
       "      <th>3</th>\n",
       "      <td>3797467345</td>\n",
       "      <td>1196621759</td>\n",
       "      <td>2019-08-15</td>\n",
       "      <td>9759</td>\n",
       "      <td>B</td>\n",
       "    </tr>\n",
       "    <tr>\n",
       "      <th>4</th>\n",
       "      <td>2282983706</td>\n",
       "      <td>2322279887</td>\n",
       "      <td>2019-08-15</td>\n",
       "      <td>2308</td>\n",
       "      <td>B</td>\n",
       "    </tr>\n",
       "  </tbody>\n",
       "</table>\n",
       "</div>"
      ],
      "text/plain": [
       "   transactionId   visitorId        date  revenue group\n",
       "0     3667963787  3312258926  2019-08-15     1650     B\n",
       "1     2804400009  3642806036  2019-08-15      730     B\n",
       "2     2961555356  4069496402  2019-08-15      400     A\n",
       "3     3797467345  1196621759  2019-08-15     9759     B\n",
       "4     2282983706  2322279887  2019-08-15     2308     B"
      ]
     },
     "execution_count": 9,
     "metadata": {},
     "output_type": "execute_result"
    }
   ],
   "source": [
    "# Изучим таблицу\n",
    "orders.head(5)"
   ]
  },
  {
   "cell_type": "code",
   "execution_count": 10,
   "id": "158338cc",
   "metadata": {},
   "outputs": [
    {
     "name": "stdout",
     "output_type": "stream",
     "text": [
      "<class 'pandas.core.frame.DataFrame'>\n",
      "RangeIndex: 1197 entries, 0 to 1196\n",
      "Data columns (total 5 columns):\n",
      " #   Column         Non-Null Count  Dtype \n",
      "---  ------         --------------  ----- \n",
      " 0   transactionId  1197 non-null   int64 \n",
      " 1   visitorId      1197 non-null   int64 \n",
      " 2   date           1197 non-null   object\n",
      " 3   revenue        1197 non-null   int64 \n",
      " 4   group          1197 non-null   object\n",
      "dtypes: int64(3), object(2)\n",
      "memory usage: 46.9+ KB\n"
     ]
    }
   ],
   "source": [
    "# Изучаем столбцы и их типы\n",
    "orders.info()"
   ]
  },
  {
   "cell_type": "code",
   "execution_count": 11,
   "id": "4e5f88fe",
   "metadata": {},
   "outputs": [
    {
     "name": "stdout",
     "output_type": "stream",
     "text": [
      "<class 'pandas.core.frame.DataFrame'>\n",
      "RangeIndex: 1197 entries, 0 to 1196\n",
      "Data columns (total 5 columns):\n",
      " #   Column         Non-Null Count  Dtype         \n",
      "---  ------         --------------  -----         \n",
      " 0   transactionId  1197 non-null   int64         \n",
      " 1   visitorId      1197 non-null   int64         \n",
      " 2   date           1197 non-null   datetime64[ns]\n",
      " 3   revenue        1197 non-null   int64         \n",
      " 4   group          1197 non-null   object        \n",
      "dtypes: datetime64[ns](1), int64(3), object(1)\n",
      "memory usage: 46.9+ KB\n"
     ]
    }
   ],
   "source": [
    "# преобразуем данные о времени для дальнейших расчётов\n",
    "orders['date'] = pd.to_datetime(orders['date'])\n",
    "orders.info()"
   ]
  },
  {
   "cell_type": "code",
   "execution_count": 12,
   "id": "39ce64ce",
   "metadata": {},
   "outputs": [],
   "source": [
    "# Проверка пользователей на дублирование\n",
    "groupA = orders.query('group == \"A\"')\n",
    "groupB = orders.query('group == \"B\"')\n",
    "spy_agent = set(groupA['visitorId']).intersection(set(groupB['visitorId']))"
   ]
  },
  {
   "cell_type": "code",
   "execution_count": 13,
   "id": "098f154c",
   "metadata": {},
   "outputs": [],
   "source": [
    "# Удаляем пользовалетей, которые попали в обе группы\n",
    "orders = orders.query('visitorId not in @spy_agent').reset_index()"
   ]
  },
  {
   "cell_type": "code",
   "execution_count": 14,
   "id": "d7ec32bb",
   "metadata": {},
   "outputs": [
    {
     "name": "stdout",
     "output_type": "stream",
     "text": [
      "<class 'pandas.core.frame.DataFrame'>\n",
      "RangeIndex: 1016 entries, 0 to 1015\n",
      "Data columns (total 6 columns):\n",
      " #   Column         Non-Null Count  Dtype         \n",
      "---  ------         --------------  -----         \n",
      " 0   index          1016 non-null   int64         \n",
      " 1   transactionId  1016 non-null   int64         \n",
      " 2   visitorId      1016 non-null   int64         \n",
      " 3   date           1016 non-null   datetime64[ns]\n",
      " 4   revenue        1016 non-null   int64         \n",
      " 5   group          1016 non-null   object        \n",
      "dtypes: datetime64[ns](1), int64(4), object(1)\n",
      "memory usage: 47.8+ KB\n"
     ]
    }
   ],
   "source": [
    "orders.info()"
   ]
  },
  {
   "cell_type": "code",
   "execution_count": 15,
   "id": "1b8dfaf6",
   "metadata": {},
   "outputs": [
    {
     "data": {
      "text/html": [
       "<style type=\"text/css\">\n",
       "#T_79f69_row0_col0, #T_79f69_row1_col0, #T_79f69_row2_col0, #T_79f69_row3_col0, #T_79f69_row4_col0, #T_79f69_row5_col0 {\n",
       "  background-color: #f7fcfd;\n",
       "  color: #000000;\n",
       "}\n",
       "</style>\n",
       "<table id=\"T_79f69\">\n",
       "  <thead>\n",
       "    <tr>\n",
       "      <th class=\"blank level0\" >&nbsp;</th>\n",
       "      <th id=\"T_79f69_level0_col0\" class=\"col_heading level0 col0\" >0</th>\n",
       "    </tr>\n",
       "  </thead>\n",
       "  <tbody>\n",
       "    <tr>\n",
       "      <th id=\"T_79f69_level0_row0\" class=\"row_heading level0 row0\" >index</th>\n",
       "      <td id=\"T_79f69_row0_col0\" class=\"data row0 col0\" >0.000000</td>\n",
       "    </tr>\n",
       "    <tr>\n",
       "      <th id=\"T_79f69_level0_row1\" class=\"row_heading level0 row1\" >transactionId</th>\n",
       "      <td id=\"T_79f69_row1_col0\" class=\"data row1 col0\" >0.000000</td>\n",
       "    </tr>\n",
       "    <tr>\n",
       "      <th id=\"T_79f69_level0_row2\" class=\"row_heading level0 row2\" >visitorId</th>\n",
       "      <td id=\"T_79f69_row2_col0\" class=\"data row2 col0\" >0.000000</td>\n",
       "    </tr>\n",
       "    <tr>\n",
       "      <th id=\"T_79f69_level0_row3\" class=\"row_heading level0 row3\" >date</th>\n",
       "      <td id=\"T_79f69_row3_col0\" class=\"data row3 col0\" >0.000000</td>\n",
       "    </tr>\n",
       "    <tr>\n",
       "      <th id=\"T_79f69_level0_row4\" class=\"row_heading level0 row4\" >revenue</th>\n",
       "      <td id=\"T_79f69_row4_col0\" class=\"data row4 col0\" >0.000000</td>\n",
       "    </tr>\n",
       "    <tr>\n",
       "      <th id=\"T_79f69_level0_row5\" class=\"row_heading level0 row5\" >group</th>\n",
       "      <td id=\"T_79f69_row5_col0\" class=\"data row5 col0\" >0.000000</td>\n",
       "    </tr>\n",
       "  </tbody>\n",
       "</table>\n"
      ],
      "text/plain": [
       "<pandas.io.formats.style.Styler at 0x7f7bf37a2a30>"
      ]
     },
     "execution_count": 15,
     "metadata": {},
     "output_type": "execute_result"
    }
   ],
   "source": [
    "# Проверим наличие пропусков в каждом столбце(%)\n",
    "pd.DataFrame(round(orders.isna().mean()*100,)).style.background_gradient('BuPu')"
   ]
  },
  {
   "cell_type": "code",
   "execution_count": 16,
   "id": "d3d24e6d",
   "metadata": {},
   "outputs": [
    {
     "data": {
      "text/plain": [
       "0"
      ]
     },
     "execution_count": 16,
     "metadata": {},
     "output_type": "execute_result"
    }
   ],
   "source": [
    "# Проверим наличие дубликатов\n",
    "orders.duplicated().sum()"
   ]
  },
  {
   "cell_type": "markdown",
   "id": "4ae5db86",
   "metadata": {},
   "source": [
    "#### Откроем файл `/datasets/visitors.csv` с данными и изучим общую информацию"
   ]
  },
  {
   "cell_type": "code",
   "execution_count": 17,
   "id": "77d7ccd7",
   "metadata": {},
   "outputs": [],
   "source": [
    "visitors = pd.read_csv('https://code.s3.yandex.net/datasets/visitors.csv')"
   ]
  },
  {
   "cell_type": "code",
   "execution_count": 18,
   "id": "0731aecc",
   "metadata": {},
   "outputs": [
    {
     "data": {
      "text/html": [
       "<div>\n",
       "<style scoped>\n",
       "    .dataframe tbody tr th:only-of-type {\n",
       "        vertical-align: middle;\n",
       "    }\n",
       "\n",
       "    .dataframe tbody tr th {\n",
       "        vertical-align: top;\n",
       "    }\n",
       "\n",
       "    .dataframe thead th {\n",
       "        text-align: right;\n",
       "    }\n",
       "</style>\n",
       "<table border=\"1\" class=\"dataframe\">\n",
       "  <thead>\n",
       "    <tr style=\"text-align: right;\">\n",
       "      <th></th>\n",
       "      <th>date</th>\n",
       "      <th>group</th>\n",
       "      <th>visitors</th>\n",
       "    </tr>\n",
       "  </thead>\n",
       "  <tbody>\n",
       "    <tr>\n",
       "      <th>0</th>\n",
       "      <td>2019-08-01</td>\n",
       "      <td>A</td>\n",
       "      <td>719</td>\n",
       "    </tr>\n",
       "    <tr>\n",
       "      <th>1</th>\n",
       "      <td>2019-08-02</td>\n",
       "      <td>A</td>\n",
       "      <td>619</td>\n",
       "    </tr>\n",
       "    <tr>\n",
       "      <th>2</th>\n",
       "      <td>2019-08-03</td>\n",
       "      <td>A</td>\n",
       "      <td>507</td>\n",
       "    </tr>\n",
       "    <tr>\n",
       "      <th>3</th>\n",
       "      <td>2019-08-04</td>\n",
       "      <td>A</td>\n",
       "      <td>717</td>\n",
       "    </tr>\n",
       "    <tr>\n",
       "      <th>4</th>\n",
       "      <td>2019-08-05</td>\n",
       "      <td>A</td>\n",
       "      <td>756</td>\n",
       "    </tr>\n",
       "  </tbody>\n",
       "</table>\n",
       "</div>"
      ],
      "text/plain": [
       "         date group  visitors\n",
       "0  2019-08-01     A       719\n",
       "1  2019-08-02     A       619\n",
       "2  2019-08-03     A       507\n",
       "3  2019-08-04     A       717\n",
       "4  2019-08-05     A       756"
      ]
     },
     "execution_count": 18,
     "metadata": {},
     "output_type": "execute_result"
    }
   ],
   "source": [
    "# Изучим таблицу\n",
    "visitors.head(5)"
   ]
  },
  {
   "cell_type": "code",
   "execution_count": 19,
   "id": "b43a1c5c",
   "metadata": {},
   "outputs": [
    {
     "name": "stdout",
     "output_type": "stream",
     "text": [
      "<class 'pandas.core.frame.DataFrame'>\n",
      "RangeIndex: 62 entries, 0 to 61\n",
      "Data columns (total 3 columns):\n",
      " #   Column    Non-Null Count  Dtype \n",
      "---  ------    --------------  ----- \n",
      " 0   date      62 non-null     object\n",
      " 1   group     62 non-null     object\n",
      " 2   visitors  62 non-null     int64 \n",
      "dtypes: int64(1), object(2)\n",
      "memory usage: 1.6+ KB\n"
     ]
    }
   ],
   "source": [
    "# Изучаем столбцы и их типы\n",
    "visitors.info()"
   ]
  },
  {
   "cell_type": "code",
   "execution_count": 20,
   "id": "b02a92b6",
   "metadata": {},
   "outputs": [
    {
     "name": "stdout",
     "output_type": "stream",
     "text": [
      "<class 'pandas.core.frame.DataFrame'>\n",
      "RangeIndex: 62 entries, 0 to 61\n",
      "Data columns (total 3 columns):\n",
      " #   Column    Non-Null Count  Dtype         \n",
      "---  ------    --------------  -----         \n",
      " 0   date      62 non-null     datetime64[ns]\n",
      " 1   group     62 non-null     object        \n",
      " 2   visitors  62 non-null     int64         \n",
      "dtypes: datetime64[ns](1), int64(1), object(1)\n",
      "memory usage: 1.6+ KB\n"
     ]
    }
   ],
   "source": [
    "# преобразуем данные о времени для дальнейших расчётов\n",
    "visitors['date'] = pd.to_datetime(visitors['date'])\n",
    "visitors.info()"
   ]
  },
  {
   "cell_type": "code",
   "execution_count": 21,
   "id": "48db20e5",
   "metadata": {},
   "outputs": [
    {
     "data": {
      "text/html": [
       "<style type=\"text/css\">\n",
       "#T_0b752_row0_col0, #T_0b752_row1_col0, #T_0b752_row2_col0 {\n",
       "  background-color: #f7fcfd;\n",
       "  color: #000000;\n",
       "}\n",
       "</style>\n",
       "<table id=\"T_0b752\">\n",
       "  <thead>\n",
       "    <tr>\n",
       "      <th class=\"blank level0\" >&nbsp;</th>\n",
       "      <th id=\"T_0b752_level0_col0\" class=\"col_heading level0 col0\" >0</th>\n",
       "    </tr>\n",
       "  </thead>\n",
       "  <tbody>\n",
       "    <tr>\n",
       "      <th id=\"T_0b752_level0_row0\" class=\"row_heading level0 row0\" >date</th>\n",
       "      <td id=\"T_0b752_row0_col0\" class=\"data row0 col0\" >0.000000</td>\n",
       "    </tr>\n",
       "    <tr>\n",
       "      <th id=\"T_0b752_level0_row1\" class=\"row_heading level0 row1\" >group</th>\n",
       "      <td id=\"T_0b752_row1_col0\" class=\"data row1 col0\" >0.000000</td>\n",
       "    </tr>\n",
       "    <tr>\n",
       "      <th id=\"T_0b752_level0_row2\" class=\"row_heading level0 row2\" >visitors</th>\n",
       "      <td id=\"T_0b752_row2_col0\" class=\"data row2 col0\" >0.000000</td>\n",
       "    </tr>\n",
       "  </tbody>\n",
       "</table>\n"
      ],
      "text/plain": [
       "<pandas.io.formats.style.Styler at 0x7f7bf378db80>"
      ]
     },
     "execution_count": 21,
     "metadata": {},
     "output_type": "execute_result"
    }
   ],
   "source": [
    "# Проверим наличие пропусков в каждом столбце(%)\n",
    "pd.DataFrame(round(visitors.isna().mean()*100,)).style.background_gradient('BuPu')"
   ]
  },
  {
   "cell_type": "code",
   "execution_count": 22,
   "id": "e08df010",
   "metadata": {},
   "outputs": [
    {
     "data": {
      "text/plain": [
       "0"
      ]
     },
     "execution_count": 22,
     "metadata": {},
     "output_type": "execute_result"
    }
   ],
   "source": [
    "# Проверим наличие дубликатов\n",
    "visitors.duplicated().sum()"
   ]
  },
  {
   "cell_type": "markdown",
   "id": "6a59383e",
   "metadata": {},
   "source": [
    "**`ВЫВОД`**: \n",
    "<div style=\"border:solid orange 2px; padding: 20px\"> \n",
    "\n",
    "В исходном датасете 'hypothesis' 9 строк и 5 столбцов, 'orders' 1197 строк и 5 столбца и 'visitors' 62 строк и 3 столбца.\n",
    "                 \n",
    "    \n",
    "После того, как изучили датасеты, выявили следующие первичные отклонения:\n",
    "    \n",
    "<span class=\"mark\">'hypothesis'</span>   \n",
    "1) Заменим названия столбцов к нижнему регистру.\n",
    "    \n",
    "<span class=\"mark\">'orders'</span>\n",
    "1) `date`- не соответствует тип колонки object. Поменяли на datetime \\\n",
    "\n",
    "    \n",
    "<span class=\"mark\">'visitors'</span> \n",
    "1) `date`- не соответствует тип колонки object. Поменяли на datetime\n",
    "\n",
    "\n",
    "Пропуски, дубликаты не выявлены.    \n",
    "</div>"
   ]
  },
  {
   "cell_type": "markdown",
   "id": "812820ed",
   "metadata": {},
   "source": [
    "### Приоритизация гипотез"
   ]
  },
  {
   "cell_type": "markdown",
   "id": "feeeb864",
   "metadata": {},
   "source": [
    "**RICE** — это метод приоритизации гипотез продукта. Аббревиатура включает 4 фактора:\n",
    "\n",
    "- **Reach** — это охват. Уровень охвата измеряется количеством людей/событий за определенный период времени. Скольких пользователей затронет изменение, которое вы хотите внести?\n",
    "- **Impact** — влияние. Влияние показывает какой вклад приносит эта фича продукту. Насколько сильно изменение повлияет на пользователей, их опыт и удовлетворение от продукта?\n",
    "- **Confidence** — уверенность в вашей оценке охвата, влияния и трудозатрат. Насколько вы уверены, что это изменение повлияет на пользователей именно так?\n",
    "- **Effort** — трудозатраты. Трудозатраты оцениваются как количество «человеко-месяцев», недель или часов, в зависимости от потребностей. Сколько стоит протестировать эту гипотезу?\n",
    "\n",
    "Чтобы получить оценку по `RICE`, вам необходимо умножить факторы `Reach`, `Impact`, `Confidence` и разделить на `Effort`.\n",
    "\n",
    "**ICE** — второй метод, который был придуман для приоретизации гипотез, которые непосредственно касаются роста компании.\n",
    "\n",
    "Чтобы получить оценку по `ICE`, вам необходимо умножить факторы  `Impact`, `Confidence` и разделить на `Effort`.\n",
    "\n",
    "\n",
    "\n",
    "\n",
    "\n"
   ]
  },
  {
   "cell_type": "markdown",
   "id": "76e4ff0c",
   "metadata": {},
   "source": [
    "#### Применим фреймворк ICE для приоритизации гипотез. Отсортируем их по убыванию приоритета."
   ]
  },
  {
   "cell_type": "code",
   "execution_count": 23,
   "id": "3a25179c",
   "metadata": {},
   "outputs": [
    {
     "data": {
      "text/html": [
       "<div>\n",
       "<style scoped>\n",
       "    .dataframe tbody tr th:only-of-type {\n",
       "        vertical-align: middle;\n",
       "    }\n",
       "\n",
       "    .dataframe tbody tr th {\n",
       "        vertical-align: top;\n",
       "    }\n",
       "\n",
       "    .dataframe thead th {\n",
       "        text-align: right;\n",
       "    }\n",
       "</style>\n",
       "<table border=\"1\" class=\"dataframe\">\n",
       "  <thead>\n",
       "    <tr style=\"text-align: right;\">\n",
       "      <th></th>\n",
       "      <th>hypothesis</th>\n",
       "      <th>reach</th>\n",
       "      <th>impact</th>\n",
       "      <th>confidence</th>\n",
       "      <th>efforts</th>\n",
       "      <th>ICE</th>\n",
       "    </tr>\n",
       "  </thead>\n",
       "  <tbody>\n",
       "    <tr>\n",
       "      <th>8</th>\n",
       "      <td>Запустить акцию, дающую скидку на товар в день рождения</td>\n",
       "      <td>1</td>\n",
       "      <td>9</td>\n",
       "      <td>9</td>\n",
       "      <td>5</td>\n",
       "      <td>16.20</td>\n",
       "    </tr>\n",
       "    <tr>\n",
       "      <th>0</th>\n",
       "      <td>Добавить два новых канала привлечения трафика, что позволит привлекать на 30% больше пользователей</td>\n",
       "      <td>3</td>\n",
       "      <td>10</td>\n",
       "      <td>8</td>\n",
       "      <td>6</td>\n",
       "      <td>13.33</td>\n",
       "    </tr>\n",
       "    <tr>\n",
       "      <th>7</th>\n",
       "      <td>Добавить форму подписки на все основные страницы, чтобы собрать базу клиентов для email-рассылок</td>\n",
       "      <td>10</td>\n",
       "      <td>7</td>\n",
       "      <td>8</td>\n",
       "      <td>5</td>\n",
       "      <td>11.20</td>\n",
       "    </tr>\n",
       "    <tr>\n",
       "      <th>6</th>\n",
       "      <td>Показать на главной странице баннеры с актуальными акциями и распродажами, чтобы увеличить конверсию</td>\n",
       "      <td>5</td>\n",
       "      <td>3</td>\n",
       "      <td>8</td>\n",
       "      <td>3</td>\n",
       "      <td>8.00</td>\n",
       "    </tr>\n",
       "    <tr>\n",
       "      <th>2</th>\n",
       "      <td>Добавить блоки рекомендаций товаров на сайт интернет магазина, чтобы повысить конверсию и средний чек заказа</td>\n",
       "      <td>8</td>\n",
       "      <td>3</td>\n",
       "      <td>7</td>\n",
       "      <td>3</td>\n",
       "      <td>7.00</td>\n",
       "    </tr>\n",
       "    <tr>\n",
       "      <th>1</th>\n",
       "      <td>Запустить собственную службу доставки, что сократит срок доставки заказов</td>\n",
       "      <td>2</td>\n",
       "      <td>5</td>\n",
       "      <td>4</td>\n",
       "      <td>10</td>\n",
       "      <td>2.00</td>\n",
       "    </tr>\n",
       "    <tr>\n",
       "      <th>5</th>\n",
       "      <td>Добавить страницу отзывов клиентов о магазине, что позволит увеличить количество заказов</td>\n",
       "      <td>3</td>\n",
       "      <td>2</td>\n",
       "      <td>2</td>\n",
       "      <td>3</td>\n",
       "      <td>1.33</td>\n",
       "    </tr>\n",
       "    <tr>\n",
       "      <th>3</th>\n",
       "      <td>Изменить структура категорий, что увеличит конверсию, т.к. пользователи быстрее найдут нужный товар</td>\n",
       "      <td>8</td>\n",
       "      <td>3</td>\n",
       "      <td>3</td>\n",
       "      <td>8</td>\n",
       "      <td>1.12</td>\n",
       "    </tr>\n",
       "    <tr>\n",
       "      <th>4</th>\n",
       "      <td>Изменить цвет фона главной страницы, чтобы увеличить вовлеченность пользователей</td>\n",
       "      <td>3</td>\n",
       "      <td>1</td>\n",
       "      <td>1</td>\n",
       "      <td>1</td>\n",
       "      <td>1.00</td>\n",
       "    </tr>\n",
       "  </tbody>\n",
       "</table>\n",
       "</div>"
      ],
      "text/plain": [
       "                                                                                                     hypothesis  \\\n",
       "8                                                       Запустить акцию, дающую скидку на товар в день рождения   \n",
       "0            Добавить два новых канала привлечения трафика, что позволит привлекать на 30% больше пользователей   \n",
       "7              Добавить форму подписки на все основные страницы, чтобы собрать базу клиентов для email-рассылок   \n",
       "6          Показать на главной странице баннеры с актуальными акциями и распродажами, чтобы увеличить конверсию   \n",
       "2  Добавить блоки рекомендаций товаров на сайт интернет магазина, чтобы повысить конверсию и средний чек заказа   \n",
       "1                                     Запустить собственную службу доставки, что сократит срок доставки заказов   \n",
       "5                      Добавить страницу отзывов клиентов о магазине, что позволит увеличить количество заказов   \n",
       "3           Изменить структура категорий, что увеличит конверсию, т.к. пользователи быстрее найдут нужный товар   \n",
       "4                              Изменить цвет фона главной страницы, чтобы увеличить вовлеченность пользователей   \n",
       "\n",
       "   reach  impact  confidence  efforts    ICE  \n",
       "8      1       9           9        5  16.20  \n",
       "0      3      10           8        6  13.33  \n",
       "7     10       7           8        5  11.20  \n",
       "6      5       3           8        3   8.00  \n",
       "2      8       3           7        3   7.00  \n",
       "1      2       5           4       10   2.00  \n",
       "5      3       2           2        3   1.33  \n",
       "3      8       3           3        8   1.12  \n",
       "4      3       1           1        1   1.00  "
      ]
     },
     "execution_count": 23,
     "metadata": {},
     "output_type": "execute_result"
    }
   ],
   "source": [
    "hypothesis['ICE'] = round((hypothesis['impact']*hypothesis['confidence'])/hypothesis['efforts'],2)\n",
    "\n",
    "pd.options.display.max_colwidth = 400\n",
    "hypothesis.sort_values(by='ICE', ascending=False)"
   ]
  },
  {
   "cell_type": "markdown",
   "id": "4b611fdb",
   "metadata": {},
   "source": [
    "<span class=\"mark\">**Наблюдение:**</span>  Более перспективные гипотезы по ICE: 8, 0 и 7"
   ]
  },
  {
   "cell_type": "markdown",
   "id": "2691720e",
   "metadata": {},
   "source": [
    "#### Применим фреймворк RICE для приоритизации гипотез. Отсортируем их по убыванию приоритета."
   ]
  },
  {
   "cell_type": "code",
   "execution_count": 24,
   "id": "825940cd",
   "metadata": {},
   "outputs": [
    {
     "data": {
      "text/html": [
       "<div>\n",
       "<style scoped>\n",
       "    .dataframe tbody tr th:only-of-type {\n",
       "        vertical-align: middle;\n",
       "    }\n",
       "\n",
       "    .dataframe tbody tr th {\n",
       "        vertical-align: top;\n",
       "    }\n",
       "\n",
       "    .dataframe thead th {\n",
       "        text-align: right;\n",
       "    }\n",
       "</style>\n",
       "<table border=\"1\" class=\"dataframe\">\n",
       "  <thead>\n",
       "    <tr style=\"text-align: right;\">\n",
       "      <th></th>\n",
       "      <th>hypothesis</th>\n",
       "      <th>reach</th>\n",
       "      <th>impact</th>\n",
       "      <th>confidence</th>\n",
       "      <th>efforts</th>\n",
       "      <th>ICE</th>\n",
       "      <th>RICE</th>\n",
       "    </tr>\n",
       "  </thead>\n",
       "  <tbody>\n",
       "    <tr>\n",
       "      <th>7</th>\n",
       "      <td>Добавить форму подписки на все основные страницы, чтобы собрать базу клиентов для email-рассылок</td>\n",
       "      <td>10</td>\n",
       "      <td>7</td>\n",
       "      <td>8</td>\n",
       "      <td>5</td>\n",
       "      <td>11.20</td>\n",
       "      <td>112.0</td>\n",
       "    </tr>\n",
       "    <tr>\n",
       "      <th>2</th>\n",
       "      <td>Добавить блоки рекомендаций товаров на сайт интернет магазина, чтобы повысить конверсию и средний чек заказа</td>\n",
       "      <td>8</td>\n",
       "      <td>3</td>\n",
       "      <td>7</td>\n",
       "      <td>3</td>\n",
       "      <td>7.00</td>\n",
       "      <td>56.0</td>\n",
       "    </tr>\n",
       "    <tr>\n",
       "      <th>0</th>\n",
       "      <td>Добавить два новых канала привлечения трафика, что позволит привлекать на 30% больше пользователей</td>\n",
       "      <td>3</td>\n",
       "      <td>10</td>\n",
       "      <td>8</td>\n",
       "      <td>6</td>\n",
       "      <td>13.33</td>\n",
       "      <td>40.0</td>\n",
       "    </tr>\n",
       "    <tr>\n",
       "      <th>6</th>\n",
       "      <td>Показать на главной странице баннеры с актуальными акциями и распродажами, чтобы увеличить конверсию</td>\n",
       "      <td>5</td>\n",
       "      <td>3</td>\n",
       "      <td>8</td>\n",
       "      <td>3</td>\n",
       "      <td>8.00</td>\n",
       "      <td>40.0</td>\n",
       "    </tr>\n",
       "    <tr>\n",
       "      <th>8</th>\n",
       "      <td>Запустить акцию, дающую скидку на товар в день рождения</td>\n",
       "      <td>1</td>\n",
       "      <td>9</td>\n",
       "      <td>9</td>\n",
       "      <td>5</td>\n",
       "      <td>16.20</td>\n",
       "      <td>16.2</td>\n",
       "    </tr>\n",
       "    <tr>\n",
       "      <th>3</th>\n",
       "      <td>Изменить структура категорий, что увеличит конверсию, т.к. пользователи быстрее найдут нужный товар</td>\n",
       "      <td>8</td>\n",
       "      <td>3</td>\n",
       "      <td>3</td>\n",
       "      <td>8</td>\n",
       "      <td>1.12</td>\n",
       "      <td>9.0</td>\n",
       "    </tr>\n",
       "    <tr>\n",
       "      <th>1</th>\n",
       "      <td>Запустить собственную службу доставки, что сократит срок доставки заказов</td>\n",
       "      <td>2</td>\n",
       "      <td>5</td>\n",
       "      <td>4</td>\n",
       "      <td>10</td>\n",
       "      <td>2.00</td>\n",
       "      <td>4.0</td>\n",
       "    </tr>\n",
       "    <tr>\n",
       "      <th>5</th>\n",
       "      <td>Добавить страницу отзывов клиентов о магазине, что позволит увеличить количество заказов</td>\n",
       "      <td>3</td>\n",
       "      <td>2</td>\n",
       "      <td>2</td>\n",
       "      <td>3</td>\n",
       "      <td>1.33</td>\n",
       "      <td>4.0</td>\n",
       "    </tr>\n",
       "    <tr>\n",
       "      <th>4</th>\n",
       "      <td>Изменить цвет фона главной страницы, чтобы увеличить вовлеченность пользователей</td>\n",
       "      <td>3</td>\n",
       "      <td>1</td>\n",
       "      <td>1</td>\n",
       "      <td>1</td>\n",
       "      <td>1.00</td>\n",
       "      <td>3.0</td>\n",
       "    </tr>\n",
       "  </tbody>\n",
       "</table>\n",
       "</div>"
      ],
      "text/plain": [
       "                                                                                                     hypothesis  \\\n",
       "7              Добавить форму подписки на все основные страницы, чтобы собрать базу клиентов для email-рассылок   \n",
       "2  Добавить блоки рекомендаций товаров на сайт интернет магазина, чтобы повысить конверсию и средний чек заказа   \n",
       "0            Добавить два новых канала привлечения трафика, что позволит привлекать на 30% больше пользователей   \n",
       "6          Показать на главной странице баннеры с актуальными акциями и распродажами, чтобы увеличить конверсию   \n",
       "8                                                       Запустить акцию, дающую скидку на товар в день рождения   \n",
       "3           Изменить структура категорий, что увеличит конверсию, т.к. пользователи быстрее найдут нужный товар   \n",
       "1                                     Запустить собственную службу доставки, что сократит срок доставки заказов   \n",
       "5                      Добавить страницу отзывов клиентов о магазине, что позволит увеличить количество заказов   \n",
       "4                              Изменить цвет фона главной страницы, чтобы увеличить вовлеченность пользователей   \n",
       "\n",
       "   reach  impact  confidence  efforts    ICE   RICE  \n",
       "7     10       7           8        5  11.20  112.0  \n",
       "2      8       3           7        3   7.00   56.0  \n",
       "0      3      10           8        6  13.33   40.0  \n",
       "6      5       3           8        3   8.00   40.0  \n",
       "8      1       9           9        5  16.20   16.2  \n",
       "3      8       3           3        8   1.12    9.0  \n",
       "1      2       5           4       10   2.00    4.0  \n",
       "5      3       2           2        3   1.33    4.0  \n",
       "4      3       1           1        1   1.00    3.0  "
      ]
     },
     "execution_count": 24,
     "metadata": {},
     "output_type": "execute_result"
    }
   ],
   "source": [
    "hypothesis['RICE']= (hypothesis['reach']*hypothesis['impact']*hypothesis['confidence'])/hypothesis['efforts']\n",
    "hypothesis.sort_values(by='RICE', ascending=False)"
   ]
  },
  {
   "cell_type": "markdown",
   "id": "76d520bb",
   "metadata": {},
   "source": [
    "<span class=\"mark\">**Наблюдение:**</span> Более перспективные гипотезы по RICE: 7, 2 и 0"
   ]
  },
  {
   "cell_type": "markdown",
   "id": "23b2ae0d",
   "metadata": {},
   "source": [
    "<p></p>\n",
    "\n",
    "<div style=\"border:solid green 2px; padding: 20px\">\n",
    "\n",
    "**ВЫВОД:** Согласно двум методам ICE и RICE, приоритетность гипотез отличается из-за ключевого фактора REACH, который имел высокие показатели при расчете ICE. В методе ICE лидерами стали: 8,0,7, а в методе RICE: 7,2,0.\n",
    "    Для роста бизнеса важен охват, поэтому наиболее приоритетными гипотезами для тестирования будут 7 и 2. \n",
    "</div>\n"
   ]
  },
  {
   "cell_type": "markdown",
   "id": "9ca82002",
   "metadata": {},
   "source": [
    "### Анализ A/B-теста\n",
    "\n",
    "Проанализируем A/B-тест:"
   ]
  },
  {
   "cell_type": "markdown",
   "id": "ced11f79",
   "metadata": {},
   "source": [
    "#### Построим график кумулятивной выручки по группам. Сделаем выводы и предположения."
   ]
  },
  {
   "cell_type": "markdown",
   "id": "c0006ed7",
   "metadata": {},
   "source": [
    "Рассчитаем усредненную (медианную) выручку за день в каждой группе, чтобы иметь представление сколько выручка за день"
   ]
  },
  {
   "cell_type": "code",
   "execution_count": 25,
   "id": "cc9a1a62",
   "metadata": {},
   "outputs": [
    {
     "data": {
      "text/plain": [
       "group\n",
       "A     92365.0\n",
       "B    107340.0\n",
       "Name: revenue, dtype: float64"
      ]
     },
     "execution_count": 25,
     "metadata": {},
     "output_type": "execute_result"
    }
   ],
   "source": [
    "orders.groupby(['date','group'])['revenue'].sum().groupby('group').median()"
   ]
  },
  {
   "cell_type": "code",
   "execution_count": 26,
   "id": "c3b47c10",
   "metadata": {},
   "outputs": [],
   "source": [
    "# Создадим датафрейм datesGroups с уникальными парами значений 'date' и 'group', таблицы orders. \n",
    "#Удалим дубликаты методом drop_duplicates()\n",
    "\n",
    "datesGroups = orders[['date','group']].drop_duplicates() "
   ]
  },
  {
   "cell_type": "markdown",
   "id": "c3f2c04a",
   "metadata": {},
   "source": [
    "Объявим переменную `ordersAggregated`, содержащую:\n",
    "- дату;\n",
    "- группу A/B-теста;\n",
    "- число уникальных заказов в группе теста по указанную дату включительно;\n",
    "- число уникальных пользователей, совершивших хотя бы 1 заказ в группе теста по - указанную дату включительно;\n",
    "- суммарную выручку заказов в группе теста по указанную дату включительно.\n",
    "\n",
    "Отсортируем по столбцам 'date', 'group' в указанном порядке.\n"
   ]
  },
  {
   "cell_type": "code",
   "execution_count": 27,
   "id": "c5b98d58",
   "metadata": {},
   "outputs": [],
   "source": [
    "# Объявите переменную ordersAggregated\n",
    "ordersAggregated = datesGroups.apply(lambda x: orders[np.logical_and(orders['date'] <= x['date'], orders['group'] == x['group'])]\\\n",
    "                                    .agg({'date' : 'max', 'group' : 'max', 'transactionId' : 'nunique', 'visitorId' : 'nunique', 'revenue' : 'sum'}), axis=1)\\\n",
    "                                    .sort_values(by=['date','group'])"
   ]
  },
  {
   "cell_type": "markdown",
   "id": "42196aee",
   "metadata": {},
   "source": [
    "Объявим переменную `visitorsAggregated`, содержащую:\n",
    "- дату;\n",
    "- группу A/B-теста;\n",
    "- количество уникальных посетителей в группе теста по указанную дату включительно.\n",
    "\n",
    "Отсортируем по столбцам 'date', 'group' в указанном порядке."
   ]
  },
  {
   "cell_type": "code",
   "execution_count": 28,
   "id": "9081a675",
   "metadata": {},
   "outputs": [],
   "source": [
    "#Объявите переменную visitorsAggregated\n",
    "visitorsAggregated = datesGroups.apply(lambda x: visitors[np.logical_and(visitors['date'] <= x['date'], visitors['group'] == x['group'])]\n",
    "                                       .agg({'date' : 'max', 'group' : 'max', 'visitors' : 'sum'}), axis=1)\\\n",
    "                                       .sort_values(by=['date','group'])\n"
   ]
  },
  {
   "cell_type": "markdown",
   "id": "2668df8d",
   "metadata": {},
   "source": [
    "Определим переменную `cumulativeData`, объединив `ordersAggregated` и `visitorsAggregated` по колонкам 'date', 'group' методом merge()"
   ]
  },
  {
   "cell_type": "code",
   "execution_count": 29,
   "id": "fa590736",
   "metadata": {},
   "outputs": [
    {
     "data": {
      "text/html": [
       "<div>\n",
       "<style scoped>\n",
       "    .dataframe tbody tr th:only-of-type {\n",
       "        vertical-align: middle;\n",
       "    }\n",
       "\n",
       "    .dataframe tbody tr th {\n",
       "        vertical-align: top;\n",
       "    }\n",
       "\n",
       "    .dataframe thead th {\n",
       "        text-align: right;\n",
       "    }\n",
       "</style>\n",
       "<table border=\"1\" class=\"dataframe\">\n",
       "  <thead>\n",
       "    <tr style=\"text-align: right;\">\n",
       "      <th></th>\n",
       "      <th>date</th>\n",
       "      <th>group</th>\n",
       "      <th>orders</th>\n",
       "      <th>buyers</th>\n",
       "      <th>revenue</th>\n",
       "      <th>visitors</th>\n",
       "    </tr>\n",
       "  </thead>\n",
       "  <tbody>\n",
       "    <tr>\n",
       "      <th>0</th>\n",
       "      <td>2019-08-01</td>\n",
       "      <td>A</td>\n",
       "      <td>23</td>\n",
       "      <td>19</td>\n",
       "      <td>142779</td>\n",
       "      <td>719</td>\n",
       "    </tr>\n",
       "    <tr>\n",
       "      <th>1</th>\n",
       "      <td>2019-08-01</td>\n",
       "      <td>B</td>\n",
       "      <td>17</td>\n",
       "      <td>17</td>\n",
       "      <td>59758</td>\n",
       "      <td>713</td>\n",
       "    </tr>\n",
       "    <tr>\n",
       "      <th>2</th>\n",
       "      <td>2019-08-02</td>\n",
       "      <td>A</td>\n",
       "      <td>42</td>\n",
       "      <td>36</td>\n",
       "      <td>234381</td>\n",
       "      <td>1338</td>\n",
       "    </tr>\n",
       "    <tr>\n",
       "      <th>3</th>\n",
       "      <td>2019-08-02</td>\n",
       "      <td>B</td>\n",
       "      <td>40</td>\n",
       "      <td>39</td>\n",
       "      <td>221801</td>\n",
       "      <td>1294</td>\n",
       "    </tr>\n",
       "    <tr>\n",
       "      <th>4</th>\n",
       "      <td>2019-08-03</td>\n",
       "      <td>A</td>\n",
       "      <td>66</td>\n",
       "      <td>60</td>\n",
       "      <td>346854</td>\n",
       "      <td>1845</td>\n",
       "    </tr>\n",
       "  </tbody>\n",
       "</table>\n",
       "</div>"
      ],
      "text/plain": [
       "        date group  orders  buyers  revenue  visitors\n",
       "0 2019-08-01     A      23      19   142779       719\n",
       "1 2019-08-01     B      17      17    59758       713\n",
       "2 2019-08-02     A      42      36   234381      1338\n",
       "3 2019-08-02     B      40      39   221801      1294\n",
       "4 2019-08-03     A      66      60   346854      1845"
      ]
     },
     "execution_count": 29,
     "metadata": {},
     "output_type": "execute_result"
    }
   ],
   "source": [
    "# Определите переменную cumulativeData\n",
    "cumulativeData = ordersAggregated.merge(visitorsAggregated, left_on=['date', 'group'], right_on=['date', 'group'])\n",
    "cumulativeData.columns = ['date', 'group', 'orders', 'buyers', 'revenue', 'visitors']\n",
    "\n",
    "cumulativeData.head(5) "
   ]
  },
  {
   "cell_type": "markdown",
   "id": "376c34e2",
   "metadata": {},
   "source": [
    "Объявим переменные `cumulativeRevenueA` и `cumulativeRevenueB`, в которых сохраните данные о датах, выручке и числе заказов в группах A и B."
   ]
  },
  {
   "cell_type": "code",
   "execution_count": 30,
   "id": "bc82750c",
   "metadata": {},
   "outputs": [
    {
     "data": {
      "image/png": "[encoded data removed]",
      "text/plain": [
       "<Figure size 1500x700 with 1 Axes>"
      ]
     },
     "metadata": {
      "needs_background": "light"
     },
     "output_type": "display_data"
    }
   ],
   "source": [
    "# датафрейм с кумулятивным количеством заказов и кумулятивной выручкой по дням в группе А\n",
    "cumulativeRevenueA = cumulativeData[cumulativeData['group']=='A'][['date','revenue', 'orders']]\n",
    "\n",
    "# датафрейм с кумулятивным количеством заказов и кумулятивной выручкой по дням в группе B\n",
    "cumulativeRevenueB = cumulativeData[cumulativeData['group']=='B'][['date','revenue', 'orders']]\n",
    "\n",
    "# Строим график выручки группы А\n",
    "figure(figsize=(15, 7), dpi=100)\n",
    "plt.plot(cumulativeRevenueA['date'], cumulativeRevenueA['revenue'], label='группа A', marker='o')\n",
    "\n",
    "# Строим график выручки группы B\n",
    "plt.plot(cumulativeRevenueB['date'], cumulativeRevenueB['revenue'], label='группа B', marker='x')\n",
    "plt.legend()\n",
    "plt.title('График кумулятивной выручки по группам')\n",
    "plt.xlabel('Дата заказа')\n",
    "plt.ylabel('Выручка')\n",
    "plt.show()"
   ]
  },
  {
   "cell_type": "markdown",
   "id": "cafc0546",
   "metadata": {},
   "source": [
    "<span class=\"mark\">**Наблюдение:**</span> В середине теста группа В вырвался вперед и продолжил лидировать весь остаток теста. Похоже, что аномально большие заказы повлияли на результат. При заключительном анализе возможно стоит их удалить."
   ]
  },
  {
   "cell_type": "markdown",
   "id": "29b0e41a",
   "metadata": {},
   "source": [
    "Найдем аномальное значение за 19 августа 2019 года, когда произошел резкий скачок."
   ]
  },
  {
   "cell_type": "code",
   "execution_count": 31,
   "id": "57be90ab",
   "metadata": {},
   "outputs": [
    {
     "name": "stdout",
     "output_type": "stream",
     "text": [
      "Медианное значение одного заказа 19 августа = 2578.0\n"
     ]
    },
    {
     "data": {
      "text/html": [
       "<div>\n",
       "<style scoped>\n",
       "    .dataframe tbody tr th:only-of-type {\n",
       "        vertical-align: middle;\n",
       "    }\n",
       "\n",
       "    .dataframe tbody tr th {\n",
       "        vertical-align: top;\n",
       "    }\n",
       "\n",
       "    .dataframe thead th {\n",
       "        text-align: right;\n",
       "    }\n",
       "</style>\n",
       "<table border=\"1\" class=\"dataframe\">\n",
       "  <thead>\n",
       "    <tr style=\"text-align: right;\">\n",
       "      <th></th>\n",
       "      <th>index</th>\n",
       "      <th>transactionId</th>\n",
       "      <th>visitorId</th>\n",
       "      <th>date</th>\n",
       "      <th>revenue</th>\n",
       "      <th>group</th>\n",
       "    </tr>\n",
       "  </thead>\n",
       "  <tbody>\n",
       "    <tr>\n",
       "      <th>365</th>\n",
       "      <td>425</td>\n",
       "      <td>590470918</td>\n",
       "      <td>1920142716</td>\n",
       "      <td>2019-08-19</td>\n",
       "      <td>1294500</td>\n",
       "      <td>B</td>\n",
       "    </tr>\n",
       "    <tr>\n",
       "      <th>453</th>\n",
       "      <td>530</td>\n",
       "      <td>3970235543</td>\n",
       "      <td>2912540959</td>\n",
       "      <td>2019-08-19</td>\n",
       "      <td>43990</td>\n",
       "      <td>A</td>\n",
       "    </tr>\n",
       "    <tr>\n",
       "      <th>450</th>\n",
       "      <td>527</td>\n",
       "      <td>1570513684</td>\n",
       "      <td>2837914161</td>\n",
       "      <td>2019-08-19</td>\n",
       "      <td>33405</td>\n",
       "      <td>B</td>\n",
       "    </tr>\n",
       "    <tr>\n",
       "      <th>361</th>\n",
       "      <td>421</td>\n",
       "      <td>3765974140</td>\n",
       "      <td>1357170471</td>\n",
       "      <td>2019-08-19</td>\n",
       "      <td>31680</td>\n",
       "      <td>A</td>\n",
       "    </tr>\n",
       "    <tr>\n",
       "      <th>393</th>\n",
       "      <td>461</td>\n",
       "      <td>2683113224</td>\n",
       "      <td>154576532</td>\n",
       "      <td>2019-08-19</td>\n",
       "      <td>26550</td>\n",
       "      <td>B</td>\n",
       "    </tr>\n",
       "    <tr>\n",
       "      <th>316</th>\n",
       "      <td>368</td>\n",
       "      <td>3268879337</td>\n",
       "      <td>2536252163</td>\n",
       "      <td>2019-08-19</td>\n",
       "      <td>20026</td>\n",
       "      <td>B</td>\n",
       "    </tr>\n",
       "    <tr>\n",
       "      <th>314</th>\n",
       "      <td>366</td>\n",
       "      <td>2037051350</td>\n",
       "      <td>1957949546</td>\n",
       "      <td>2019-08-19</td>\n",
       "      <td>16770</td>\n",
       "      <td>A</td>\n",
       "    </tr>\n",
       "    <tr>\n",
       "      <th>395</th>\n",
       "      <td>463</td>\n",
       "      <td>4170537404</td>\n",
       "      <td>290022471</td>\n",
       "      <td>2019-08-19</td>\n",
       "      <td>16480</td>\n",
       "      <td>B</td>\n",
       "    </tr>\n",
       "  </tbody>\n",
       "</table>\n",
       "</div>"
      ],
      "text/plain": [
       "     index  transactionId   visitorId       date  revenue group\n",
       "365    425      590470918  1920142716 2019-08-19  1294500     B\n",
       "453    530     3970235543  2912540959 2019-08-19    43990     A\n",
       "450    527     1570513684  2837914161 2019-08-19    33405     B\n",
       "361    421     3765974140  1357170471 2019-08-19    31680     A\n",
       "393    461     2683113224   154576532 2019-08-19    26550     B\n",
       "316    368     3268879337  2536252163 2019-08-19    20026     B\n",
       "314    366     2037051350  1957949546 2019-08-19    16770     A\n",
       "395    463     4170537404   290022471 2019-08-19    16480     B"
      ]
     },
     "execution_count": 31,
     "metadata": {},
     "output_type": "execute_result"
    }
   ],
   "source": [
    "print('Медианное значение одного заказа 19 августа =',orders.query(' date == \"2019-08-19\" ')['revenue'].median())\n",
    "orders.query(' date == \"2019-08-19\" ').sort_values(by='revenue', ascending=False).head(8)"
   ]
  },
  {
   "cell_type": "markdown",
   "id": "5fabd53b",
   "metadata": {},
   "source": [
    "**19 августа был заказ на 1 294 500 рублей, что превысило медианное значение в 490 раз. Как раз данный заказ можно считать выбросом.**"
   ]
  },
  {
   "cell_type": "markdown",
   "id": "a5ea97a2",
   "metadata": {},
   "source": [
    "#### Построим график кумулятивного среднего чека по группам. Сделаем выводы и предположения."
   ]
  },
  {
   "cell_type": "code",
   "execution_count": 32,
   "id": "ff1f91c6",
   "metadata": {},
   "outputs": [
    {
     "data": {
      "image/png": "[encoded data removed]",
      "text/plain": [
       "<Figure size 1500x700 with 1 Axes>"
      ]
     },
     "metadata": {
      "needs_background": "light"
     },
     "output_type": "display_data"
    }
   ],
   "source": [
    "# Построим графики среднего чека по группам — разделим кумулятивную выручку на кумулятивное число заказов\n",
    "figure(figsize=(15, 7), dpi=100)\n",
    "plt.plot(cumulativeRevenueA['date'], cumulativeRevenueA['revenue']/cumulativeRevenueA['orders'], label='группа A', marker='o')\n",
    "plt.plot(cumulativeRevenueB['date'], cumulativeRevenueB['revenue']/cumulativeRevenueB['orders'], label='группа B', marker='x')\n",
    "plt.legend()\n",
    "plt.title('График кумулятивного среднего чека по группам')\n",
    "plt.xlabel('Дата заказа')\n",
    "plt.ylabel('Выручка')\n",
    "\n",
    "plt.show()"
   ]
  },
  {
   "cell_type": "markdown",
   "id": "395d6204",
   "metadata": {},
   "source": [
    "<span class=\"mark\">**Наблюдение:**</span> Кумулятивное значение среднего чека по сегментам имеет высокую волатильность. Требуется дополнительный анализ выбросов, особенно в середине теста, которые так сильно искажают результаты."
   ]
  },
  {
   "cell_type": "markdown",
   "id": "6be41936",
   "metadata": {},
   "source": [
    "#### Построим график относительного изменения кумулятивного среднего чека группы B к группе A. Сделаем выводы и предположения."
   ]
  },
  {
   "cell_type": "markdown",
   "id": "8dfd15cd",
   "metadata": {},
   "source": [
    "Создадим переменную **`mergedCumulativeRevenue`**, объединив таблицы cumulativeRevenueA и cumulativeRevenueB методом merge() так, чтобы она содержала столбцы: ['date', 'revenueA', 'revenueB', 'ordersA', 'ordersB']. \n",
    "\n",
    "Добавим пунктирную линию оси X (значение оси Y = 0) методом plt.axhline()."
   ]
  },
  {
   "cell_type": "code",
   "execution_count": 33,
   "id": "c1628d63",
   "metadata": {},
   "outputs": [
    {
     "data": {
      "image/png": "[encoded data removed]",
      "text/plain": [
       "<Figure size 1500x700 with 1 Axes>"
      ]
     },
     "metadata": {
      "needs_background": "light"
     },
     "output_type": "display_data"
    }
   ],
   "source": [
    "# собираем данные в одном датафрейме\n",
    "mergedCumulativeRevenue = cumulativeRevenueA.merge(cumulativeRevenueB, left_on='date', right_on='date', how='left', suffixes=['A', 'B'])\n",
    "\n",
    "# cтроим отношение средних чеков\n",
    "figure(figsize=(15, 7), dpi=100)\n",
    "plt.plot(mergedCumulativeRevenue['date'], (mergedCumulativeRevenue['revenueB']/mergedCumulativeRevenue['ordersB'])\\\n",
    "         /(mergedCumulativeRevenue['revenueA']/mergedCumulativeRevenue['ordersA'])-1)\n",
    "\n",
    "# добавляем ось X\n",
    "plt.axhline(y=0, color='orange', linestyle='--') \n",
    "plt.title('График относительного изменения кумулятивного среднего чека группы B к группе A')\n",
    "plt.xlabel('Дата заказа')\n",
    "plt.ylabel('Относительные различия')\n",
    "\n",
    "plt.show()"
   ]
  },
  {
   "cell_type": "markdown",
   "id": "903940c1",
   "metadata": {},
   "source": [
    "<span class=\"mark\">**Наблюдение:**</span> Чтобы нагляднее увидеть разницу между группами, мы построили график относительного различия и видим, что группа В лучше группы А. Результаты теста значительно и резко менялись в несколько дат. Видимо, именно тогда были совершенны анномальные заказы."
   ]
  },
  {
   "cell_type": "markdown",
   "id": "88226077",
   "metadata": {},
   "source": [
    "#### Построим график кумулятивного среднего количества заказов по группам Сделаем выводы и предположения."
   ]
  },
  {
   "cell_type": "markdown",
   "id": "b6ce7373",
   "metadata": {},
   "source": [
    "Добавим в `cumulativeData` столбец 'aveg_order' c отношением числа заказов к количеству пользователей в указанной группе в указанный день.\n",
    "\n",
    "Объявим переменные cumulativeDataA и cumulativeDataB, в которых сохраним данные о заказах в сегментах A и B соответственно."
   ]
  },
  {
   "cell_type": "code",
   "execution_count": 34,
   "id": "b69d9c34",
   "metadata": {},
   "outputs": [
    {
     "data": {
      "text/plain": [
       "Text(0, 0.5, 'Среднее количество заказов')"
      ]
     },
     "execution_count": 34,
     "metadata": {},
     "output_type": "execute_result"
    },
    {
     "data": {
      "image/png": "[encoded data removed]",
      "text/plain": [
       "<Figure size 1500x700 with 1 Axes>"
      ]
     },
     "metadata": {
      "needs_background": "light"
     },
     "output_type": "display_data"
    }
   ],
   "source": [
    "# считаем кумулятивную среднюю кол-во заказов\n",
    "cumulativeData['aveg_order'] = cumulativeData['orders']/cumulativeData['visitors']\n",
    "\n",
    "# отделяем данные по группе A\n",
    "cumulativeDataA = cumulativeData[cumulativeData['group']=='A']\n",
    "\n",
    "# отделяем данные по группе B\n",
    "cumulativeDataB = cumulativeData[cumulativeData['group']=='B']\n",
    "\n",
    "# строим графики\n",
    "figure(figsize=(15, 7), dpi=100)\n",
    "plt.plot(cumulativeDataA['date'], cumulativeDataA['aveg_order'], label='группа A', marker='o')\n",
    "plt.plot(cumulativeDataB['date'], cumulativeDataB['aveg_order'], label='группа B', marker='x')\n",
    "plt.legend()\n",
    "plt.title('График кумулятивного среднего количества заказов по группам')\n",
    "plt.xlabel('Дата заказа')\n",
    "plt.ylabel('Среднее количество заказов')\n"
   ]
  },
  {
   "cell_type": "markdown",
   "id": "d9d1d132",
   "metadata": {},
   "source": [
    "<span class=\"mark\">**Наблюдение:**</span> В начале теста группа А имела выше среднее значение по отношению к группе В при высоких колебаниях. После 2019-08-09 наблюдаются незначительные колебания в двух группах, но явным лидером стала группа В. "
   ]
  },
  {
   "cell_type": "markdown",
   "id": "0eb07d89",
   "metadata": {},
   "source": [
    "#### Построим график относительного изменения кумулятивного среднего количества заказов группы B к группе A. Сделаем выводы и предположения."
   ]
  },
  {
   "cell_type": "markdown",
   "id": "69a44461",
   "metadata": {},
   "source": [
    "Создадим переменную **`mergedCumulativeAverOrd`**, объединив таблицы cumulativeRevenueA и cumulativeRevenueB методом merge() так, чтобы она содержала столбцы: ['date', 'aveg_orderA', 'aveg_orderB']. \n",
    "\n",
    "Добавим пунктирную линию оси X (значение оси Y = 0) методом plt.axhline()."
   ]
  },
  {
   "cell_type": "code",
   "execution_count": 35,
   "id": "92458ff9",
   "metadata": {},
   "outputs": [
    {
     "data": {
      "image/png": "[encoded data removed]",
      "text/plain": [
       "<Figure size 1500x700 with 1 Axes>"
      ]
     },
     "metadata": {
      "needs_background": "light"
     },
     "output_type": "display_data"
    }
   ],
   "source": [
    "mergedCumulativeAverOrd = cumulativeDataA[['date','aveg_order']].merge(cumulativeDataB[['date','aveg_order']], left_on='date', right_on='date', how='left', suffixes=['A', 'B'])\n",
    "figure(figsize=(15, 7), dpi=100)\n",
    "plt.plot(mergedCumulativeAverOrd['date'], mergedCumulativeAverOrd['aveg_orderB']/mergedCumulativeAverOrd['aveg_orderA']-1)\n",
    "\n",
    "plt.axhline(y=0, color='black', linestyle='--')\n",
    "plt.axhline(y=0.2, color='grey', linestyle='--')\n",
    "\n",
    "plt.title('График относительного изменения кумулятивного среднего количества заказов группы B к группе A')\n",
    "plt.xlabel('Дата заказа')\n",
    "plt.show()"
   ]
  },
  {
   "cell_type": "markdown",
   "id": "2c8e5cc2",
   "metadata": {},
   "source": [
    "<span class=\"mark\">**Наблюдение:**</span> В начале теста группа В лидирует относительному среднему количеству заказов, но с середины теста показатель стал снижаться."
   ]
  },
  {
   "cell_type": "markdown",
   "id": "cf29050c",
   "metadata": {},
   "source": [
    "#### Построим точечный график количества заказов по пользователям. Сделаем выводы и предположения."
   ]
  },
  {
   "cell_type": "markdown",
   "id": "6cae56c4",
   "metadata": {},
   "source": [
    "Построим диаграмму методом scatter().\n",
    "\n",
    "Значения для вертикальной оси возьмите из столбца 'orders' датафрейма ordersByUsers."
   ]
  },
  {
   "cell_type": "code",
   "execution_count": 36,
   "id": "7f9e1989",
   "metadata": {},
   "outputs": [
    {
     "data": {
      "image/png": "[encoded data removed]",
      "text/plain": [
       "<Figure size 1500x700 with 1 Axes>"
      ]
     },
     "metadata": {
      "needs_background": "light"
     },
     "output_type": "display_data"
    },
    {
     "data": {
      "image/png": "[encoded data removed]",
      "text/plain": [
       "<Figure size 1080x360 with 1 Axes>"
      ]
     },
     "metadata": {
      "needs_background": "light"
     },
     "output_type": "display_data"
    }
   ],
   "source": [
    "# Метод .groupby('...', as_index=False) сгруппирует заказы по пользователям\n",
    "# Метод .agg({'...' : 'nunique',}) подсчитает число уникальных заказов по сгруппированным данным\n",
    "# Метод .sort_values(by='...',ascending=False) отсортирует датафрейм по значению в столбце\n",
    "\n",
    "ordersByUsers = (\n",
    "                orders.groupby('visitorId', as_index=False)\n",
    "                .agg({'transactionId' : 'nunique'})\n",
    ")\n",
    "ordersByUsers.columns= ['visitorId','orders']\n",
    "\n",
    "\n",
    "# серия из чисел от 0 до количества наблюдений в ordersByUsers\n",
    "x_values = pd.Series(range(0, len(ordersByUsers)))\n",
    "\n",
    "figure(figsize=(15, 7), dpi=100)\n",
    "plt.scatter(x_values, ordersByUsers['orders'], color='orange') \n",
    "plt.title('График количества заказов по пользователям')\n",
    "plt.xlabel('Дата заказа')\n",
    "plt.show()\n",
    "\n",
    "# Построим диаграмму размаха(\"ящик с усами\")\n",
    "fig = plt.figure(figsize=(15, 5))\n",
    "ax = plt.subplot(2, 1,2)\n",
    "\n",
    "ax.boxplot(ordersByUsers['orders'], False, sym='rs', vert=False, whis=0.5, positions=[0], widths=[0.3])\n",
    "\n",
    "plt.tight_layout()\n",
    "plt.show()"
   ]
  },
  {
   "cell_type": "markdown",
   "id": "dfac66a8",
   "metadata": {},
   "source": [
    "Построим гистограмму распределения числа заказов по пользователям методом hist()."
   ]
  },
  {
   "cell_type": "code",
   "execution_count": 37,
   "id": "68e37079",
   "metadata": {},
   "outputs": [
    {
     "data": {
      "image/png": "[encoded data removed]",
      "text/plain": [
       "<Figure size 1500x700 with 1 Axes>"
      ]
     },
     "metadata": {
      "needs_background": "light"
     },
     "output_type": "display_data"
    }
   ],
   "source": [
    "figure(figsize=(15, 7), dpi=100)\n",
    "plt.hist(ordersByUsers['orders'], alpha=0.5, color='orange')\n",
    "plt.title('График количества заказов по пользователям')\n",
    "plt.xlabel('Количество заказов')\n",
    "plt.show()"
   ]
  },
  {
   "cell_type": "markdown",
   "id": "dfe2f657",
   "metadata": {},
   "source": [
    "<span class=\"mark\">**Наблюдение:**</span> Большенство пользователей совершили всего 1 заказ. Пользователей, заказавших более двух раз, совсем мало. Они вполне могут быть аномальными. "
   ]
  },
  {
   "cell_type": "markdown",
   "id": "1ad2ded0",
   "metadata": {},
   "source": [
    "#### Посчитаем 95-й и 99-й перцентили количества заказов на пользователя. Выберим границу для определения аномальных пользователей."
   ]
  },
  {
   "cell_type": "code",
   "execution_count": 38,
   "id": "0e7ebd21",
   "metadata": {},
   "outputs": [
    {
     "data": {
      "text/plain": [
       "array([1., 2.])"
      ]
     },
     "execution_count": 38,
     "metadata": {},
     "output_type": "execute_result"
    }
   ],
   "source": [
    "# Метод np.percentile('column', [percentile1, percentile2, percentile3]) находит перцентили.\n",
    "\n",
    "np.percentile(ordersByUsers['orders'], [95, 99]) "
   ]
  },
  {
   "cell_type": "markdown",
   "id": "db76638a",
   "metadata": {},
   "source": [
    "<span class=\"mark\">**Наблюдение:**</span> Не более 5% пользователей совершали больше двух заказов.И не более 1% пользователей- больше четырех заказов. "
   ]
  },
  {
   "cell_type": "markdown",
   "id": "988e8ace",
   "metadata": {},
   "source": [
    "Более детально посмотрим на диапозон процентиля с 95 по 99"
   ]
  },
  {
   "cell_type": "code",
   "execution_count": 39,
   "id": "8473d3bd",
   "metadata": {},
   "outputs": [
    {
     "data": {
      "text/plain": [
       "array([1., 1., 2., 2., 2.])"
      ]
     },
     "execution_count": 39,
     "metadata": {},
     "output_type": "execute_result"
    }
   ],
   "source": [
    "np.percentile(ordersByUsers['orders'], [95, 96, 97,98, 99]) "
   ]
  },
  {
   "cell_type": "markdown",
   "id": "9f802134",
   "metadata": {},
   "source": [
    "<span class=\"mark\">**Наблюдение:**</span> Теперь точно видно, что только 2% делают более 3х заказов- считаем их выбросами."
   ]
  },
  {
   "cell_type": "markdown",
   "id": "83f59683",
   "metadata": {},
   "source": [
    "#### Построим точечный график стоимостей заказов. Сделаем выводы и предположения."
   ]
  },
  {
   "cell_type": "markdown",
   "id": "4438d2a6",
   "metadata": {},
   "source": [
    "Построим диаграмму методом scatter().\n",
    "\n",
    "Значения для вертикальной оси возьмите из столбца 'revenue' датафрейма orders."
   ]
  },
  {
   "cell_type": "code",
   "execution_count": 40,
   "id": "ff1c13f0",
   "metadata": {},
   "outputs": [
    {
     "data": {
      "image/png": "[encoded data removed]",
      "text/plain": [
       "<Figure size 1500x700 with 1 Axes>"
      ]
     },
     "metadata": {
      "needs_background": "light"
     },
     "output_type": "display_data"
    },
    {
     "data": {
      "image/png": "[encoded data removed]",
      "text/plain": [
       "<Figure size 1080x360 with 1 Axes>"
      ]
     },
     "metadata": {
      "needs_background": "light"
     },
     "output_type": "display_data"
    }
   ],
   "source": [
    "x_values = pd.Series(range(0, len(orders['revenue'])))\n",
    "\n",
    "\n",
    "figure(figsize=(15, 7), dpi=100)\n",
    "plt.scatter(x_values, (orders['revenue']))\n",
    "plt.title('График стоимостей заказов')\n",
    "\n",
    "plt.show()\n",
    "\n",
    "# Построим диаграмму размаха(\"ящик с усами\")\n",
    "fig = plt.figure(figsize=(15, 5))\n",
    "ax = plt.subplot(2, 1,2)\n",
    "\n",
    "ax.boxplot(orders['revenue'], False, sym='rs', vert=False, whis=0.5, positions=[0], widths=[0.3])\n",
    "\n",
    "plt.tight_layout()\n",
    "plt.show()"
   ]
  },
  {
   "cell_type": "markdown",
   "id": "33539be4",
   "metadata": {},
   "source": [
    "Увеличим масштаб для удобства просмотра."
   ]
  },
  {
   "cell_type": "code",
   "execution_count": 41,
   "id": "90be362d",
   "metadata": {},
   "outputs": [
    {
     "data": {
      "image/png": "[encoded data removed]",
      "text/plain": [
       "<Figure size 1080x360 with 1 Axes>"
      ]
     },
     "metadata": {
      "needs_background": "light"
     },
     "output_type": "display_data"
    },
    {
     "data": {
      "image/png": "[encoded data removed]",
      "text/plain": [
       "<Figure size 1080x360 with 1 Axes>"
      ]
     },
     "metadata": {
      "needs_background": "light"
     },
     "output_type": "display_data"
    }
   ],
   "source": [
    "gen_orders = orders[orders['revenue']<=195000]['revenue']\n",
    "xn_values = pd.Series(range(0,len(gen_orders)))\n",
    "\n",
    "\n",
    "plt.figure(figsize=(15,5))\n",
    "plt.grid()\n",
    "plt.title('График стоимостей заказов')\n",
    "plt.scatter(xn_values, gen_orders, alpha=0.5);\n",
    "\n",
    "# Построим диаграмму размаха(\"ящик с усами\")\n",
    "fig = plt.figure(figsize=(15, 5))\n",
    "ax = plt.subplot(2, 1,2)\n",
    "\n",
    "ax.boxplot(gen_orders, False, sym='rs', vert=False, whis=0.5, positions=[0], widths=[0.3])\n",
    "\n",
    "plt.tight_layout()\n",
    "plt.show()"
   ]
  },
  {
   "cell_type": "markdown",
   "id": "e9b4dd0f",
   "metadata": {},
   "source": [
    "<span class=\"mark\">**Наблюдение:**</span> Заказов стоимостью более 100 000 рублей очень мало. Есть 2 выброса 200 000 р и более 1 200 000 рублей. Заказ на стоимость выше 1 200 000 р выблядит аномально. "
   ]
  },
  {
   "cell_type": "markdown",
   "id": "d306606a",
   "metadata": {},
   "source": [
    "#### Посчитаем  95-й и 99-й перцентили стоимости заказов. Выберим границу для определения аномальных заказов."
   ]
  },
  {
   "cell_type": "code",
   "execution_count": 42,
   "id": "03f6ca75",
   "metadata": {},
   "outputs": [
    {
     "data": {
      "text/plain": [
       "array([26785., 53904.])"
      ]
     },
     "execution_count": 42,
     "metadata": {},
     "output_type": "execute_result"
    }
   ],
   "source": [
    "np.percentile(orders['revenue'], [95, 99])"
   ]
  },
  {
   "cell_type": "markdown",
   "id": "6a592145",
   "metadata": {},
   "source": [
    "<span class=\"mark\">**Наблюдение:**</span> Не более, чем у 5% заказов чек дороже 26 785р. И не больше, чем у 1% заказов- дороже 53 904 р.  "
   ]
  },
  {
   "cell_type": "markdown",
   "id": "e2ee2e0f",
   "metadata": {},
   "source": [
    "#### Посчитаем статистическую значимость различий в среднем количестве заказов между группами по «сырым» данным. Сделаем выводы и предположения."
   ]
  },
  {
   "cell_type": "markdown",
   "id": "96f49c16",
   "metadata": {},
   "source": [
    "После того, как мы оценили результаты А/В- теста визуально выяснили, что в данных есть аномании и нашли их границу. Подготовим данные для расчета p-value \n",
    "\n",
    "Для этого мы:\n",
    "- определим количество пользователей ежедневно в переменной `visitorsADaily/visitorsBDaily` и с накомлением  `visitorsACummulative/visitorsBCummulative` по каждой группе;\n",
    "- определим количество заказов ежедневно в переменной `ordersADaily/ordersBDaily` и с накомлением  `ordersACummulative/ordersBCummulative` по каждой группе;\n",
    "- созданим новый датафрейм `data`, объеденив с помощью метода `merge` все выше указанные данные по двум группам.\n",
    "\n",
    "Сформулируем гипотезы. \n",
    "\n",
    "- Ho: различий в среднем количестве заказов между группами нет. \n",
    "- Ha: различия в среднем между группами есть.\n"
   ]
  },
  {
   "cell_type": "code",
   "execution_count": 43,
   "id": "59e89265",
   "metadata": {},
   "outputs": [],
   "source": [
    "visitorsADaily = visitors[visitors['group'] == 'A'][['date', 'visitors']]\n",
    "visitorsADaily.columns = ['date', 'visitorsPerDateA']\n",
    "\n",
    "visitorsACummulative = visitorsADaily.apply(\n",
    "    lambda x: visitorsADaily[visitorsADaily['date'] <= x['date']]\n",
    "    .agg({'date': 'max', 'visitorsPerDateA': 'sum'}), axis=1,)\n",
    "\n",
    "\n",
    "visitorsACummulative.columns = ['date', 'visitorsCummulativeA']\n",
    "\n",
    "visitorsBDaily = visitors[visitors['group'] == 'B'][['date', 'visitors']]\n",
    "visitorsBDaily.columns = ['date', 'visitorsPerDateB']\n",
    "\n",
    "visitorsBCummulative = visitorsBDaily.apply(\n",
    "    lambda x: visitorsBDaily[visitorsBDaily['date'] <= x['date']]\n",
    "    .agg({'date': 'max', 'visitorsPerDateB': 'sum'}), axis=1,)\n",
    "\n",
    "visitorsBCummulative.columns = ['date', 'visitorsCummulativeB']\n",
    "\n",
    "ordersADaily = (\n",
    "    orders[orders['group'] == 'A'][['date', 'transactionId', 'visitorId', 'revenue']]\n",
    "    .groupby('date', as_index=False)\n",
    "    .agg({'transactionId': pd.Series.nunique, 'revenue': 'sum'})\n",
    ")\n",
    "ordersADaily.columns = ['date', 'ordersPerDateA', 'revenuePerDateA']\n",
    "\n",
    "ordersACummulative = ordersADaily.apply(\n",
    "    lambda x: ordersADaily[ordersADaily['date'] <= x['date']]\n",
    "    .agg({'date': 'max', 'ordersPerDateA': 'sum', 'revenuePerDateA': 'sum'}),axis=1,)\\\n",
    "    .sort_values(by=['date'])\n",
    "\n",
    "ordersACummulative.columns = [\n",
    "    'date',\n",
    "    'ordersCummulativeA',\n",
    "    'revenueCummulativeA',\n",
    "]\n",
    "\n",
    "ordersBDaily = (\n",
    "    orders[orders['group'] == 'B'][['date', 'transactionId', 'visitorId', 'revenue']]\n",
    "    .groupby('date', as_index=False)\n",
    "    .agg({'transactionId': pd.Series.nunique, 'revenue': 'sum'})\n",
    ")\n",
    "ordersBDaily.columns = ['date', 'ordersPerDateB', 'revenuePerDateB']\n",
    "\n",
    "ordersBCummulative = ordersBDaily.apply(\n",
    "    lambda x: ordersBDaily[ordersBDaily['date'] <= x['date']].agg(\n",
    "        {'date': 'max', 'ordersPerDateB': 'sum', 'revenuePerDateB': 'sum'}\n",
    "    ),\n",
    "    axis=1,\n",
    ").sort_values(by=['date'])\n",
    "ordersBCummulative.columns = [\n",
    "    'date',\n",
    "    'ordersCummulativeB',\n",
    "    'revenueCummulativeB',\n",
    "]\n",
    "\n",
    "data = (\n",
    "    ordersADaily.merge(\n",
    "        ordersBDaily, left_on='date', right_on='date', how='left'\n",
    "    )\n",
    "    .merge(ordersACummulative, left_on='date', right_on='date', how='left')\n",
    "    .merge(ordersBCummulative, left_on='date', right_on='date', how='left')\n",
    "    .merge(visitorsADaily, left_on='date', right_on='date', how='left')\n",
    "    .merge(visitorsBDaily, left_on='date', right_on='date', how='left')\n",
    "    .merge(visitorsACummulative, left_on='date', right_on='date', how='left')\n",
    "    .merge(visitorsBCummulative, left_on='date', right_on='date', how='left')\n",
    ")\n"
   ]
  },
  {
   "cell_type": "markdown",
   "id": "0a4801db",
   "metadata": {},
   "source": [
    "Создадим переменные ordersByUsersA и ordersByUsersB со столбцами ['visitorId, 'orders']. \n",
    "В них для пользователей, которые заказывали хотя бы 1 раз, укажем число совершённых заказов. \n"
   ]
  },
  {
   "cell_type": "code",
   "execution_count": 44,
   "id": "bc2d5bfe",
   "metadata": {},
   "outputs": [],
   "source": [
    "\n",
    "ordersByUsersA = (\n",
    "    orders[orders['group'] == 'A']\n",
    "    .groupby('visitorId', as_index=False)\n",
    "    .agg({'transactionId': pd.Series.nunique})\n",
    ")\n",
    "\n",
    "ordersByUsersA.columns = ['visitorId', 'orders']\n",
    "\n",
    "ordersByUsersB = (\n",
    "    orders[orders['group'] == 'B']\n",
    "    .groupby('visitorId', as_index=False)\n",
    "    .agg({'transactionId': pd.Series.nunique})\n",
    ")\n",
    "ordersByUsersB.columns = ['visitorId', 'orders']"
   ]
  },
  {
   "cell_type": "code",
   "execution_count": 45,
   "id": "d20a4a0c",
   "metadata": {},
   "outputs": [
    {
     "data": {
      "text/plain": [
       "[0      1\n",
       " 1      1\n",
       " 2      1\n",
       " 3      1\n",
       " 4      1\n",
       "       ..\n",
       " 440    1\n",
       " 441    1\n",
       " 442    1\n",
       " 443    1\n",
       " 444    1\n",
       " Name: orders, Length: 445, dtype: int64,\n",
       " 0        0\n",
       " 1        0\n",
       " 2        0\n",
       " 3        0\n",
       " 4        0\n",
       "         ..\n",
       " 18286    0\n",
       " 18287    0\n",
       " 18288    0\n",
       " 18289    0\n",
       " 18290    0\n",
       " Name: orders, Length: 18291, dtype: int64]"
      ]
     },
     "execution_count": 45,
     "metadata": {},
     "output_type": "execute_result"
    }
   ],
   "source": [
    "# Создадим объект pd.Series нужной длины:\n",
    "\n",
    "pd.Series(0, index=np.arange(data['visitorsPerDateA'].sum() - len(ordersByUsersA['orders'])), name='orders')\n",
    "\n",
    "[ordersByUsersA['orders'],pd.Series(0, index=np.arange(data['visitorsPerDateA'].sum() - len(ordersByUsersA['orders'])), name='orders')]\n"
   ]
  },
  {
   "cell_type": "markdown",
   "id": "b26b88e6",
   "metadata": {},
   "source": [
    "Объявим переменные `sampleA` и `sampleB`, в которых пользователям с заказами будет соответствовать число заказов пользователя."
   ]
  },
  {
   "cell_type": "code",
   "execution_count": 46,
   "id": "753d1cf1",
   "metadata": {},
   "outputs": [],
   "source": [
    "#Список индексов создали функцией np.arange(). Она работает так же, как функция range(), только создаёт массив индексов в формате np.array, который требуется в pd.Series.\n",
    "# В Pandas последовательности объединяют функцией pd.concat() (от англ. concatenate, «сцеплять»). Сперва ей передают то, что объединяют — в нашем случае список из первой и второй части:\n",
    "# Дальше передадим аргумент, сообщающий, что объекты Series нужно объединить по строкам (то есть записать подряд): pd.concat([...], axis=0). То же делаем для sampleB и получаем:\n",
    "\n",
    "sampleA = pd.concat([ordersByUsersA['orders'],pd.Series(0, index=np.arange(data['visitorsPerDateA'].sum() - len(ordersByUsersA['orders'])), name='orders')],axis=0)\n",
    "\n",
    "sampleB = pd.concat([ordersByUsersB['orders'],pd.Series(0, index=np.arange(data['visitorsPerDateB'].sum() - len(ordersByUsersB['orders'])), name='orders')],axis=0)\n",
    "\n",
    "\n",
    "ordersByUsersA = (\n",
    "    orders[orders['group'] == 'A']\n",
    "    .groupby('visitorId', as_index=False)\n",
    "    .agg({'transactionId': pd.Series.nunique})\n",
    ")\n",
    "ordersByUsersA.columns = ['visitorId', 'orders']\n",
    "\n",
    "ordersByUsersB = (\n",
    "    orders[orders['group'] == 'B']\n",
    "    .groupby('visitorId', as_index=False)\n",
    "    .agg({'transactionId': pd.Series.nunique})\n",
    ")\n",
    "ordersByUsersB.columns = ['visitorId', 'orders']\n",
    "\n",
    "sampleA = pd.concat(\n",
    "    [\n",
    "        ordersByUsersA['orders'],\n",
    "        pd.Series(\n",
    "            0,\n",
    "            index=np.arange(\n",
    "                data['visitorsPerDateA'].sum() - len(ordersByUsersA['orders'])\n",
    "            ),\n",
    "            name='orders',\n",
    "        ),\n",
    "    ],\n",
    "    axis=0,\n",
    ")\n",
    "\n",
    "sampleB = pd.concat(\n",
    "    [\n",
    "        ordersByUsersB['orders'],\n",
    "        pd.Series(\n",
    "            0,\n",
    "            index=np.arange(\n",
    "                data['visitorsPerDateB'].sum() - len(ordersByUsersB['orders'])\n",
    "            ),\n",
    "            name='orders',\n",
    "        ),\n",
    "    ],\n",
    "    axis=0,\n",
    ")\n",
    "\n"
   ]
  },
  {
   "cell_type": "markdown",
   "id": "24eb3fec",
   "metadata": {},
   "source": [
    "Посчитаем статистическую значимость различия среднего количества заказов, применив тест Манна-Уитни."
   ]
  },
  {
   "cell_type": "code",
   "execution_count": 47,
   "id": "675bca4d",
   "metadata": {},
   "outputs": [
    {
     "name": "stdout",
     "output_type": "stream",
     "text": [
      "alpha = 0.05\n",
      "p-value =0.01102\n",
      "Относительный показатель 'B' и 'A' = 0.160\n"
     ]
    }
   ],
   "source": [
    "print(\"alpha =\",0.05)\n",
    "print(\"p-value ={0:.5f}\".format(stats.mannwhitneyu(sampleA, sampleB)[1]))\n",
    "print(\"Относительный показатель 'B' и 'A' = {0:.3f}\".format(sampleB.mean() / sampleA.mean() - 1))"
   ]
  },
  {
   "cell_type": "markdown",
   "id": "99b11394",
   "metadata": {},
   "source": [
    "<span class=\"mark\">**Наблюдение:**</span> P-value  меньше 0.05, поэтому нулевую гипотезу отвергаем. Анализ \"сырых\" данных показал, что в средних количествах заказов между группами есть статистически значемые различия. Относительный прирост среднего значения группы В к группе А равен 16%."
   ]
  },
  {
   "cell_type": "markdown",
   "id": "efac3202",
   "metadata": {},
   "source": [
    "#### Посчитаем статистическую значимость различий в среднем чеке заказа между группами по «сырым» данным. Сделаем выводы и предположения."
   ]
  },
  {
   "cell_type": "code",
   "execution_count": 48,
   "id": "f21bcd48",
   "metadata": {},
   "outputs": [
    {
     "name": "stdout",
     "output_type": "stream",
     "text": [
      "alpha = 0.05\n",
      "p-value =0.829\n",
      "Относительный показатель 'B' и 'A' = 0.287\n"
     ]
    }
   ],
   "source": [
    "print(\"alpha =\",0.05)\n",
    "print('p-value ={0:.3f}'.format(stats.mannwhitneyu(orders[orders['group']=='A']['revenue'], orders[orders['group']=='B']['revenue'])[1]))\n",
    "print(\"Относительный показатель 'B' и 'A' = {0:.3f}\".format(orders[orders['group']=='B']['revenue'].mean()/orders[orders['group']=='A']['revenue'].mean()-1))"
   ]
  },
  {
   "cell_type": "markdown",
   "id": "7656ad89",
   "metadata": {},
   "source": [
    "<span class=\"mark\">**Наблюдение:**</span> P-value больше 0.05, поэтому нулевую гипотезу не отвергаем. Это говорит о том, что статистических значимых отличий в среднем чеке заказа между группами нет. "
   ]
  },
  {
   "cell_type": "markdown",
   "id": "46ce127e",
   "metadata": {},
   "source": [
    "#### Посчитаем статистическую значимость различий в среднем количестве заказов между группами по «очищенным» данным. Сделаем выводы и предположения."
   ]
  },
  {
   "cell_type": "markdown",
   "id": "65e264ff",
   "metadata": {},
   "source": [
    "Примем за аномальных пользователй тех, кто соверших более 2х заказов на сумму свыше 54 000 р. \n",
    "\n",
    "- сделаем срезы пользователей с числом заказов больше 2 — usersWithManyOrders и пользователей, совершивших заказы дороже 54 000 — usersWithExpensiveOrders. \n",
    "- объединим их в таблице abnormalUsers, удалим дубликаты, отсортируем по возрастанию."
   ]
  },
  {
   "cell_type": "code",
   "execution_count": 49,
   "id": "751bfbd1",
   "metadata": {},
   "outputs": [
    {
     "name": "stdout",
     "output_type": "stream",
     "text": [
      "937    148427295\n",
      "33     249864742\n",
      "58     611059232\n",
      "811    887908475\n",
      "632    888512513\n",
      "Name: visitorId, dtype: int64\n",
      "Всего странных пользователей = 16\n"
     ]
    }
   ],
   "source": [
    "usersWithManyOrders = pd.concat(\n",
    "    [\n",
    "        ordersByUsersA[ordersByUsersA['orders'] > 2]['visitorId'],\n",
    "        ordersByUsersB[ordersByUsersB['orders'] > 2]['visitorId'],\n",
    "    ],\n",
    "    axis=0,\n",
    ")\n",
    "usersWithExpensiveOrders = orders[orders['revenue'] > 54000]['visitorId']\n",
    "abnormalUsers = (\n",
    "    pd.concat([usersWithManyOrders, usersWithExpensiveOrders], axis=0)\n",
    "    .drop_duplicates()\n",
    "    .sort_values()\n",
    ")\n",
    "print(abnormalUsers.head(5))\n",
    "print(\"Всего странных пользователей =\" ,len(abnormalUsers)) "
   ]
  },
  {
   "cell_type": "markdown",
   "id": "6e76001d",
   "metadata": {},
   "source": [
    "- создадим переменные `sampleAFiltered` и `sampleBFiltered`, в которых сохраните очищенные данные о заказах — не включая аномальных пользователей.\n",
    "\n",
    "- выведим p-value для сравнения среднего между очищенными группами."
   ]
  },
  {
   "cell_type": "code",
   "execution_count": 50,
   "id": "f18d29d2",
   "metadata": {},
   "outputs": [
    {
     "name": "stdout",
     "output_type": "stream",
     "text": [
      "alpha = 0.05\n",
      "p-value = 0.00702\n",
      "Относительный показатель 'B' и 'A' = 0.189\n"
     ]
    }
   ],
   "source": [
    "sampleAFiltered = pd.concat(\n",
    "    [\n",
    "        ordersByUsersA[\n",
    "            np.logical_not(ordersByUsersA['visitorId'].isin(abnormalUsers))\n",
    "        ]['orders'],\n",
    "        pd.Series(\n",
    "            0,\n",
    "            index=np.arange(\n",
    "                data['visitorsPerDateA'].sum() - len(ordersByUsersA['orders'])\n",
    "            ),\n",
    "            name='orders',\n",
    "        ),\n",
    "    ],\n",
    "    axis=0,\n",
    ")\n",
    "\n",
    "sampleBFiltered = pd.concat(\n",
    "    [\n",
    "        ordersByUsersB[\n",
    "            np.logical_not(ordersByUsersB['visitorId'].isin(abnormalUsers))\n",
    "        ]['orders'],\n",
    "        pd.Series(\n",
    "            0,\n",
    "            index=np.arange(\n",
    "                data['visitorsPerDateB'].sum() - len(ordersByUsersB['orders'])\n",
    "            ),\n",
    "            name='orders',\n",
    "        ),\n",
    "    ],\n",
    "    axis=0,\n",
    ")\n",
    "print(\"alpha =\",0.05)\n",
    "print('p-value = {0:.5f}'.format(stats.mannwhitneyu(sampleAFiltered, sampleBFiltered)[1]))\n",
    "print(\"Относительный показатель 'B' и 'A' = {0:.3f}\".format(sampleBFiltered.mean()/sampleAFiltered.mean()-1))"
   ]
  },
  {
   "cell_type": "markdown",
   "id": "d642c132",
   "metadata": {},
   "source": [
    "<span class=\"mark\">**Наблюдение:**</span> Как и в случаи с \"сырыми\" данными, статистическая значимость достигнута. Сегмент В значительно лучше сегмента А. А относительный показатель группы \"B\" над \"A\" равен 18,9% (выше, чем с «сырыми» данными - 16%)"
   ]
  },
  {
   "cell_type": "markdown",
   "id": "264705cc",
   "metadata": {},
   "source": [
    "#### Посчитаем статистическую значимость различий в среднем чеке заказа между группами по «очищенным» данным. Сделаем выводы и предположения."
   ]
  },
  {
   "cell_type": "markdown",
   "id": "32a2f1a2",
   "metadata": {},
   "source": [
    "- выведим p-value для сравнения средних чеков между очищенными группами; \n",
    "- выведим относительный прирост среднего чека очищенной группы B"
   ]
  },
  {
   "cell_type": "code",
   "execution_count": 51,
   "id": "738426f9",
   "metadata": {},
   "outputs": [
    {
     "name": "stdout",
     "output_type": "stream",
     "text": [
      "alpha = 0.05\n",
      "p-value = 0.788\n",
      "Относительный показатель 'B' и 'A' = -0.032\n"
     ]
    }
   ],
   "source": [
    "print(\"alpha =\",0.05)\n",
    "print(\n",
    "    'p-value = {0:.3f}'.format(\n",
    "        stats.mannwhitneyu(\n",
    "            orders[\n",
    "                np.logical_and(\n",
    "                    orders['group'] == 'A',\n",
    "                    np.logical_not(orders['visitorId'].isin(abnormalUsers)),\n",
    "                )\n",
    "            ]['revenue'],\n",
    "            orders[\n",
    "                np.logical_and(\n",
    "                    orders['group'] == 'B',\n",
    "                    np.logical_not(orders['visitorId'].isin(abnormalUsers)),\n",
    "                )\n",
    "            ]['revenue'],\n",
    "        )[1]\n",
    "    )\n",
    ")\n",
    "\n",
    "print(\n",
    "    \"Относительный показатель 'B' и 'A' = {0:.3f}\".format(\n",
    "        orders[\n",
    "            np.logical_and(\n",
    "                orders['group'] == 'B',\n",
    "                np.logical_not(orders['visitorId'].isin(abnormalUsers)),\n",
    "            )\n",
    "        ]['revenue'].mean()\n",
    "        / orders[\n",
    "            np.logical_and(\n",
    "                orders['group'] == 'A',\n",
    "                np.logical_not(orders['visitorId'].isin(abnormalUsers)),\n",
    "            )\n",
    "        ]['revenue'].mean()\n",
    "        - 1\n",
    "    )\n",
    ")"
   ]
  },
  {
   "cell_type": "markdown",
   "id": "dd66ed3c",
   "metadata": {},
   "source": [
    "<span class=\"mark\">**Наблюдение:**</span> Различия между средними чеками групп статистически незначимы.  "
   ]
  },
  {
   "cell_type": "markdown",
   "id": "6c9f2559",
   "metadata": {},
   "source": [
    "#### Примем решение по результатам теста и объясните его. \n",
    "Варианты решений: \n",
    "\n",
    "1. Остановить тест, зафиксировать победу одной из групп. \n",
    "2. Остановить тест, зафиксировать отсутствие различий между группами. \n",
    "3. Продолжить тест."
   ]
  },
  {
   "cell_type": "markdown",
   "id": "d0eb88de",
   "metadata": {},
   "source": [
    "**`ВЫВОДЫ:`**\n",
    "<div style=\"border-radius: 15px; box-shadow: 4px 4px 4px; border: solid orange 2px; padding: 20px\"> \n",
    "    \n",
    "- Основным аномальным заказом оказался чек на 1,3 млн, что привел к отклонению среднего чека.\n",
    "- Есть статистическое различие в среднем количестве заказов между группами как по сырым данным, так и после фильтрации аномалий.\n",
    "- Нет статистических различий в среднем чеке между группами\n",
    "- График относительного различия среднего чека показывает ухудшение результатов группы В. Различия в средних чеках групп A и B отстутствуют.\n",
    "\n",
    "\n",
    "\n",
    "**С учетом вышесказанного, предлагается завершить тест, тк группа В даже при снижении среднего чека имеет результаты лучше группы А.**\n",
    "</b><br>"
   ]
  },
  {
   "cell_type": "code",
   "execution_count": null,
   "id": "0f368cef",
   "metadata": {},
   "outputs": [],
   "source": []
  }
 ],
 "metadata": {
  "ExecuteTimeLog": [
   {
    "duration": 1100,
    "start_time": "2022-11-16T16:15:48.537Z"
   },
   {
    "duration": 165,
    "start_time": "2022-11-16T16:15:49.639Z"
   },
   {
    "duration": 13,
    "start_time": "2022-11-16T16:15:49.806Z"
   },
   {
    "duration": 7,
    "start_time": "2022-11-16T16:15:49.822Z"
   },
   {
    "duration": 14,
    "start_time": "2022-11-16T16:15:49.831Z"
   },
   {
    "duration": 54,
    "start_time": "2022-11-16T16:15:49.847Z"
   },
   {
    "duration": 5,
    "start_time": "2022-11-16T16:15:49.903Z"
   },
   {
    "duration": 47,
    "start_time": "2022-11-16T16:15:49.909Z"
   },
   {
    "duration": 8,
    "start_time": "2022-11-16T16:15:49.958Z"
   },
   {
    "duration": 21,
    "start_time": "2022-11-16T16:15:49.968Z"
   },
   {
    "duration": 26,
    "start_time": "2022-11-16T16:15:49.991Z"
   },
   {
    "duration": 31,
    "start_time": "2022-11-16T16:15:50.019Z"
   },
   {
    "duration": 18,
    "start_time": "2022-11-16T16:15:50.052Z"
   },
   {
    "duration": 56,
    "start_time": "2022-11-16T16:15:50.073Z"
   },
   {
    "duration": 8,
    "start_time": "2022-11-16T16:15:50.131Z"
   },
   {
    "duration": 20,
    "start_time": "2022-11-16T16:15:50.141Z"
   },
   {
    "duration": 15,
    "start_time": "2022-11-16T16:15:50.163Z"
   },
   {
    "duration": 17,
    "start_time": "2022-11-16T16:15:50.180Z"
   },
   {
    "duration": 10,
    "start_time": "2022-11-16T16:15:50.199Z"
   },
   {
    "duration": 19,
    "start_time": "2022-11-16T16:15:50.211Z"
   },
   {
    "duration": 28,
    "start_time": "2022-11-16T16:15:50.232Z"
   },
   {
    "duration": 35,
    "start_time": "2022-11-16T16:15:50.262Z"
   },
   {
    "duration": 171,
    "start_time": "2022-11-16T16:15:50.299Z"
   },
   {
    "duration": 120,
    "start_time": "2022-11-16T16:15:50.472Z"
   },
   {
    "duration": 14,
    "start_time": "2022-11-16T16:15:50.594Z"
   },
   {
    "duration": 374,
    "start_time": "2022-11-16T16:15:50.610Z"
   },
   {
    "duration": 304,
    "start_time": "2022-11-16T16:15:50.986Z"
   },
   {
    "duration": 365,
    "start_time": "2022-11-16T16:15:51.293Z"
   },
   {
    "duration": 318,
    "start_time": "2022-11-16T16:15:51.659Z"
   },
   {
    "duration": 375,
    "start_time": "2022-11-16T16:15:51.979Z"
   },
   {
    "duration": 350,
    "start_time": "2022-11-16T16:15:52.355Z"
   },
   {
    "duration": 293,
    "start_time": "2022-11-16T16:15:52.706Z"
   },
   {
    "duration": 5,
    "start_time": "2022-11-16T16:15:53.001Z"
   },
   {
    "duration": 508,
    "start_time": "2022-11-16T16:15:53.008Z"
   },
   {
    "duration": 5,
    "start_time": "2022-11-16T16:15:53.518Z"
   },
   {
    "duration": 253,
    "start_time": "2022-11-16T16:15:53.525Z"
   },
   {
    "duration": 134,
    "start_time": "2022-11-16T16:15:53.780Z"
   },
   {
    "duration": 9,
    "start_time": "2022-11-16T16:15:53.915Z"
   },
   {
    "duration": 239,
    "start_time": "2022-11-16T16:15:53.925Z"
   },
   {
    "duration": 30,
    "start_time": "2022-11-16T16:15:54.167Z"
   },
   {
    "duration": 13,
    "start_time": "2022-11-16T16:15:54.199Z"
   },
   {
    "duration": 14,
    "start_time": "2022-11-16T16:15:54.214Z"
   },
   {
    "duration": 36,
    "start_time": "2022-11-16T16:15:54.229Z"
   },
   {
    "duration": 14,
    "start_time": "2022-11-16T16:15:54.277Z"
   },
   {
    "duration": 46,
    "start_time": "2022-11-17T05:06:23.454Z"
   },
   {
    "duration": 1122,
    "start_time": "2022-11-17T05:08:03.667Z"
   },
   {
    "duration": 160,
    "start_time": "2022-11-17T05:08:04.791Z"
   },
   {
    "duration": 12,
    "start_time": "2022-11-17T05:08:04.953Z"
   },
   {
    "duration": 24,
    "start_time": "2022-11-17T05:08:04.967Z"
   },
   {
    "duration": 21,
    "start_time": "2022-11-17T05:08:04.992Z"
   },
   {
    "duration": 56,
    "start_time": "2022-11-17T05:08:05.015Z"
   },
   {
    "duration": 4,
    "start_time": "2022-11-17T05:08:05.072Z"
   },
   {
    "duration": 102,
    "start_time": "2022-11-17T05:08:05.078Z"
   },
   {
    "duration": 7,
    "start_time": "2022-11-17T05:08:05.182Z"
   },
   {
    "duration": 16,
    "start_time": "2022-11-17T05:08:05.192Z"
   },
   {
    "duration": 17,
    "start_time": "2022-11-17T05:08:05.210Z"
   },
   {
    "duration": 37,
    "start_time": "2022-11-17T05:08:05.229Z"
   },
   {
    "duration": 0,
    "start_time": "2022-11-17T05:08:05.269Z"
   },
   {
    "duration": 0,
    "start_time": "2022-11-17T05:08:05.270Z"
   },
   {
    "duration": 0,
    "start_time": "2022-11-17T05:08:05.271Z"
   },
   {
    "duration": 0,
    "start_time": "2022-11-17T05:08:05.272Z"
   },
   {
    "duration": 0,
    "start_time": "2022-11-17T05:08:05.273Z"
   },
   {
    "duration": 0,
    "start_time": "2022-11-17T05:08:05.274Z"
   },
   {
    "duration": 0,
    "start_time": "2022-11-17T05:08:05.275Z"
   },
   {
    "duration": 0,
    "start_time": "2022-11-17T05:08:05.277Z"
   },
   {
    "duration": 0,
    "start_time": "2022-11-17T05:08:05.278Z"
   },
   {
    "duration": 0,
    "start_time": "2022-11-17T05:08:05.279Z"
   },
   {
    "duration": 0,
    "start_time": "2022-11-17T05:08:05.281Z"
   },
   {
    "duration": 0,
    "start_time": "2022-11-17T05:08:05.282Z"
   },
   {
    "duration": 0,
    "start_time": "2022-11-17T05:08:05.284Z"
   },
   {
    "duration": 0,
    "start_time": "2022-11-17T05:08:05.285Z"
   },
   {
    "duration": 0,
    "start_time": "2022-11-17T05:08:05.286Z"
   },
   {
    "duration": 0,
    "start_time": "2022-11-17T05:08:05.288Z"
   },
   {
    "duration": 0,
    "start_time": "2022-11-17T05:08:05.289Z"
   },
   {
    "duration": 0,
    "start_time": "2022-11-17T05:08:05.291Z"
   },
   {
    "duration": 0,
    "start_time": "2022-11-17T05:08:05.292Z"
   },
   {
    "duration": 0,
    "start_time": "2022-11-17T05:08:05.293Z"
   },
   {
    "duration": 0,
    "start_time": "2022-11-17T05:08:05.295Z"
   },
   {
    "duration": 0,
    "start_time": "2022-11-17T05:08:05.296Z"
   },
   {
    "duration": 0,
    "start_time": "2022-11-17T05:08:05.312Z"
   },
   {
    "duration": 0,
    "start_time": "2022-11-17T05:08:05.313Z"
   },
   {
    "duration": 0,
    "start_time": "2022-11-17T05:08:05.315Z"
   },
   {
    "duration": 0,
    "start_time": "2022-11-17T05:08:05.316Z"
   },
   {
    "duration": 0,
    "start_time": "2022-11-17T05:08:05.317Z"
   },
   {
    "duration": 0,
    "start_time": "2022-11-17T05:08:05.317Z"
   },
   {
    "duration": 0,
    "start_time": "2022-11-17T05:08:05.318Z"
   },
   {
    "duration": 0,
    "start_time": "2022-11-17T05:08:05.319Z"
   },
   {
    "duration": 0,
    "start_time": "2022-11-17T05:08:05.320Z"
   },
   {
    "duration": 0,
    "start_time": "2022-11-17T05:08:05.321Z"
   },
   {
    "duration": 0,
    "start_time": "2022-11-17T05:08:05.322Z"
   },
   {
    "duration": 0,
    "start_time": "2022-11-17T05:08:05.323Z"
   },
   {
    "duration": 46,
    "start_time": "2022-11-17T05:44:49.018Z"
   },
   {
    "duration": 10,
    "start_time": "2022-11-17T05:44:52.161Z"
   },
   {
    "duration": 29,
    "start_time": "2022-11-17T05:44:53.966Z"
   },
   {
    "duration": 19,
    "start_time": "2022-11-17T05:46:19.934Z"
   },
   {
    "duration": 11,
    "start_time": "2022-11-17T05:46:23.788Z"
   },
   {
    "duration": 51,
    "start_time": "2022-11-17T05:46:24.534Z"
   },
   {
    "duration": 11,
    "start_time": "2022-11-17T06:12:15.840Z"
   },
   {
    "duration": 5,
    "start_time": "2022-11-17T06:13:07.901Z"
   },
   {
    "duration": 12,
    "start_time": "2022-11-17T06:13:23.267Z"
   },
   {
    "duration": 60,
    "start_time": "2022-11-17T06:14:38.767Z"
   },
   {
    "duration": 50,
    "start_time": "2022-11-17T06:16:50.955Z"
   },
   {
    "duration": 13,
    "start_time": "2022-11-17T06:17:06.594Z"
   },
   {
    "duration": 17,
    "start_time": "2022-11-17T06:20:02.108Z"
   },
   {
    "duration": 12,
    "start_time": "2022-11-17T06:20:38.957Z"
   },
   {
    "duration": 12,
    "start_time": "2022-11-17T06:20:48.555Z"
   },
   {
    "duration": 12,
    "start_time": "2022-11-17T06:21:37.685Z"
   },
   {
    "duration": 11,
    "start_time": "2022-11-17T06:21:45.954Z"
   },
   {
    "duration": 11,
    "start_time": "2022-11-17T06:21:49.799Z"
   },
   {
    "duration": 14,
    "start_time": "2022-11-17T06:22:01.411Z"
   },
   {
    "duration": 16,
    "start_time": "2022-11-17T07:20:06.326Z"
   },
   {
    "duration": 13,
    "start_time": "2022-11-17T08:12:34.073Z"
   },
   {
    "duration": 5,
    "start_time": "2022-11-17T08:13:23.302Z"
   },
   {
    "duration": 95,
    "start_time": "2022-11-17T08:13:38.943Z"
   },
   {
    "duration": 3,
    "start_time": "2022-11-17T08:13:53.252Z"
   },
   {
    "duration": 11,
    "start_time": "2022-11-17T08:14:00.447Z"
   },
   {
    "duration": 13,
    "start_time": "2022-11-17T08:15:45.544Z"
   },
   {
    "duration": 12,
    "start_time": "2022-11-17T08:15:56.124Z"
   },
   {
    "duration": 1033,
    "start_time": "2022-11-17T09:01:52.236Z"
   },
   {
    "duration": 116,
    "start_time": "2022-11-17T09:01:53.271Z"
   },
   {
    "duration": 13,
    "start_time": "2022-11-17T09:01:53.389Z"
   },
   {
    "duration": 8,
    "start_time": "2022-11-17T09:01:53.405Z"
   },
   {
    "duration": 17,
    "start_time": "2022-11-17T09:01:53.415Z"
   },
   {
    "duration": 57,
    "start_time": "2022-11-17T09:01:53.434Z"
   },
   {
    "duration": 22,
    "start_time": "2022-11-17T09:01:53.493Z"
   },
   {
    "duration": 50,
    "start_time": "2022-11-17T09:01:53.518Z"
   },
   {
    "duration": 9,
    "start_time": "2022-11-17T09:01:53.569Z"
   },
   {
    "duration": 15,
    "start_time": "2022-11-17T09:01:53.582Z"
   },
   {
    "duration": 18,
    "start_time": "2022-11-17T09:01:53.600Z"
   },
   {
    "duration": 112,
    "start_time": "2022-11-17T09:01:53.620Z"
   },
   {
    "duration": 0,
    "start_time": "2022-11-17T09:01:53.734Z"
   },
   {
    "duration": 0,
    "start_time": "2022-11-17T09:01:53.735Z"
   },
   {
    "duration": 0,
    "start_time": "2022-11-17T09:01:53.737Z"
   },
   {
    "duration": 0,
    "start_time": "2022-11-17T09:01:53.738Z"
   },
   {
    "duration": 0,
    "start_time": "2022-11-17T09:01:53.739Z"
   },
   {
    "duration": 0,
    "start_time": "2022-11-17T09:01:53.740Z"
   },
   {
    "duration": 0,
    "start_time": "2022-11-17T09:01:53.741Z"
   },
   {
    "duration": 0,
    "start_time": "2022-11-17T09:01:53.742Z"
   },
   {
    "duration": 0,
    "start_time": "2022-11-17T09:01:53.744Z"
   },
   {
    "duration": 0,
    "start_time": "2022-11-17T09:01:53.745Z"
   },
   {
    "duration": 0,
    "start_time": "2022-11-17T09:01:53.746Z"
   },
   {
    "duration": 0,
    "start_time": "2022-11-17T09:01:53.748Z"
   },
   {
    "duration": 0,
    "start_time": "2022-11-17T09:01:53.749Z"
   },
   {
    "duration": 0,
    "start_time": "2022-11-17T09:01:53.750Z"
   },
   {
    "duration": 0,
    "start_time": "2022-11-17T09:01:53.751Z"
   },
   {
    "duration": 0,
    "start_time": "2022-11-17T09:01:53.753Z"
   },
   {
    "duration": 0,
    "start_time": "2022-11-17T09:01:53.754Z"
   },
   {
    "duration": 0,
    "start_time": "2022-11-17T09:01:53.755Z"
   },
   {
    "duration": 0,
    "start_time": "2022-11-17T09:01:53.757Z"
   },
   {
    "duration": 0,
    "start_time": "2022-11-17T09:01:53.758Z"
   },
   {
    "duration": 0,
    "start_time": "2022-11-17T09:01:53.759Z"
   },
   {
    "duration": 0,
    "start_time": "2022-11-17T09:01:53.760Z"
   },
   {
    "duration": 0,
    "start_time": "2022-11-17T09:01:53.761Z"
   },
   {
    "duration": 0,
    "start_time": "2022-11-17T09:01:53.812Z"
   },
   {
    "duration": 0,
    "start_time": "2022-11-17T09:01:53.814Z"
   },
   {
    "duration": 0,
    "start_time": "2022-11-17T09:01:53.816Z"
   },
   {
    "duration": 0,
    "start_time": "2022-11-17T09:01:53.817Z"
   },
   {
    "duration": 0,
    "start_time": "2022-11-17T09:01:53.819Z"
   },
   {
    "duration": 0,
    "start_time": "2022-11-17T09:01:53.820Z"
   },
   {
    "duration": 0,
    "start_time": "2022-11-17T09:01:53.822Z"
   },
   {
    "duration": 0,
    "start_time": "2022-11-17T09:01:53.823Z"
   },
   {
    "duration": 0,
    "start_time": "2022-11-17T09:01:53.825Z"
   },
   {
    "duration": 0,
    "start_time": "2022-11-17T09:01:53.826Z"
   },
   {
    "duration": 0,
    "start_time": "2022-11-17T09:01:53.828Z"
   },
   {
    "duration": 0,
    "start_time": "2022-11-17T09:01:53.831Z"
   },
   {
    "duration": 15,
    "start_time": "2022-11-17T09:03:58.011Z"
   },
   {
    "duration": 11,
    "start_time": "2022-11-17T09:04:19.777Z"
   },
   {
    "duration": 13,
    "start_time": "2022-11-17T09:04:44.262Z"
   },
   {
    "duration": 13,
    "start_time": "2022-11-17T09:05:00.862Z"
   },
   {
    "duration": 14,
    "start_time": "2022-11-17T09:05:20.233Z"
   },
   {
    "duration": 993,
    "start_time": "2022-11-17T09:05:35.055Z"
   },
   {
    "duration": 111,
    "start_time": "2022-11-17T09:05:36.050Z"
   },
   {
    "duration": 11,
    "start_time": "2022-11-17T09:05:36.162Z"
   },
   {
    "duration": 11,
    "start_time": "2022-11-17T09:05:36.176Z"
   },
   {
    "duration": 16,
    "start_time": "2022-11-17T09:05:36.189Z"
   },
   {
    "duration": 83,
    "start_time": "2022-11-17T09:05:36.207Z"
   },
   {
    "duration": 5,
    "start_time": "2022-11-17T09:05:36.292Z"
   },
   {
    "duration": 62,
    "start_time": "2022-11-17T09:05:36.298Z"
   },
   {
    "duration": 9,
    "start_time": "2022-11-17T09:05:36.362Z"
   },
   {
    "duration": 18,
    "start_time": "2022-11-17T09:05:36.375Z"
   },
   {
    "duration": 24,
    "start_time": "2022-11-17T09:05:36.396Z"
   },
   {
    "duration": 31,
    "start_time": "2022-11-17T09:05:36.422Z"
   },
   {
    "duration": 14,
    "start_time": "2022-11-17T09:05:36.455Z"
   },
   {
    "duration": 7,
    "start_time": "2022-11-17T09:05:36.471Z"
   },
   {
    "duration": 51,
    "start_time": "2022-11-17T09:05:36.480Z"
   },
   {
    "duration": 8,
    "start_time": "2022-11-17T09:05:36.533Z"
   },
   {
    "duration": 17,
    "start_time": "2022-11-17T09:05:36.543Z"
   },
   {
    "duration": 21,
    "start_time": "2022-11-17T09:05:36.562Z"
   },
   {
    "duration": 23,
    "start_time": "2022-11-17T09:05:36.585Z"
   },
   {
    "duration": 27,
    "start_time": "2022-11-17T09:05:36.610Z"
   },
   {
    "duration": 14,
    "start_time": "2022-11-17T09:05:36.639Z"
   },
   {
    "duration": 15,
    "start_time": "2022-11-17T09:05:36.655Z"
   },
   {
    "duration": 9,
    "start_time": "2022-11-17T09:05:36.672Z"
   },
   {
    "duration": 180,
    "start_time": "2022-11-17T09:05:36.682Z"
   },
   {
    "duration": 129,
    "start_time": "2022-11-17T09:05:36.863Z"
   },
   {
    "duration": 32,
    "start_time": "2022-11-17T09:05:36.994Z"
   },
   {
    "duration": 359,
    "start_time": "2022-11-17T09:05:37.028Z"
   },
   {
    "duration": 333,
    "start_time": "2022-11-17T09:05:37.390Z"
   },
   {
    "duration": 402,
    "start_time": "2022-11-17T09:05:37.726Z"
   },
   {
    "duration": 329,
    "start_time": "2022-11-17T09:05:38.130Z"
   },
   {
    "duration": 384,
    "start_time": "2022-11-17T09:05:38.462Z"
   },
   {
    "duration": 388,
    "start_time": "2022-11-17T09:05:38.848Z"
   },
   {
    "duration": 230,
    "start_time": "2022-11-17T09:05:39.238Z"
   },
   {
    "duration": 5,
    "start_time": "2022-11-17T09:05:39.470Z"
   },
   {
    "duration": 557,
    "start_time": "2022-11-17T09:05:39.477Z"
   },
   {
    "duration": 8,
    "start_time": "2022-11-17T09:05:40.035Z"
   },
   {
    "duration": 238,
    "start_time": "2022-11-17T09:05:40.045Z"
   },
   {
    "duration": 148,
    "start_time": "2022-11-17T09:05:40.284Z"
   },
   {
    "duration": 9,
    "start_time": "2022-11-17T09:05:40.434Z"
   },
   {
    "duration": 149,
    "start_time": "2022-11-17T09:05:40.445Z"
   },
   {
    "duration": 34,
    "start_time": "2022-11-17T09:05:40.596Z"
   },
   {
    "duration": 19,
    "start_time": "2022-11-17T09:05:40.632Z"
   },
   {
    "duration": 9,
    "start_time": "2022-11-17T09:05:40.653Z"
   },
   {
    "duration": 36,
    "start_time": "2022-11-17T09:05:40.664Z"
   },
   {
    "duration": 31,
    "start_time": "2022-11-17T09:05:40.701Z"
   },
   {
    "duration": 12,
    "start_time": "2022-11-17T09:13:56.142Z"
   },
   {
    "duration": 9,
    "start_time": "2022-11-17T09:14:01.138Z"
   },
   {
    "duration": 14,
    "start_time": "2022-11-17T09:17:26.789Z"
   },
   {
    "duration": 13,
    "start_time": "2022-11-17T09:17:29.950Z"
   },
   {
    "duration": 1094,
    "start_time": "2022-11-17T09:17:36.370Z"
   },
   {
    "duration": 319,
    "start_time": "2022-11-17T09:17:37.466Z"
   },
   {
    "duration": 10,
    "start_time": "2022-11-17T09:17:37.787Z"
   },
   {
    "duration": 27,
    "start_time": "2022-11-17T09:17:37.799Z"
   },
   {
    "duration": 34,
    "start_time": "2022-11-17T09:17:37.827Z"
   },
   {
    "duration": 64,
    "start_time": "2022-11-17T09:17:37.863Z"
   },
   {
    "duration": 5,
    "start_time": "2022-11-17T09:17:37.928Z"
   },
   {
    "duration": 96,
    "start_time": "2022-11-17T09:17:37.934Z"
   },
   {
    "duration": 7,
    "start_time": "2022-11-17T09:17:38.032Z"
   },
   {
    "duration": 41,
    "start_time": "2022-11-17T09:17:38.041Z"
   },
   {
    "duration": 24,
    "start_time": "2022-11-17T09:17:38.084Z"
   },
   {
    "duration": 24,
    "start_time": "2022-11-17T09:17:38.110Z"
   },
   {
    "duration": 25,
    "start_time": "2022-11-17T09:17:38.135Z"
   },
   {
    "duration": 22,
    "start_time": "2022-11-17T09:17:38.162Z"
   },
   {
    "duration": 32,
    "start_time": "2022-11-17T09:17:38.186Z"
   },
   {
    "duration": 26,
    "start_time": "2022-11-17T09:17:38.220Z"
   },
   {
    "duration": 92,
    "start_time": "2022-11-17T09:17:38.248Z"
   },
   {
    "duration": 8,
    "start_time": "2022-11-17T09:17:38.342Z"
   },
   {
    "duration": 30,
    "start_time": "2022-11-17T09:17:38.351Z"
   },
   {
    "duration": 17,
    "start_time": "2022-11-17T09:17:38.383Z"
   },
   {
    "duration": 23,
    "start_time": "2022-11-17T09:17:38.401Z"
   },
   {
    "duration": 18,
    "start_time": "2022-11-17T09:17:38.425Z"
   },
   {
    "duration": 27,
    "start_time": "2022-11-17T09:17:38.445Z"
   },
   {
    "duration": 42,
    "start_time": "2022-11-17T09:17:38.473Z"
   },
   {
    "duration": 26,
    "start_time": "2022-11-17T09:17:38.517Z"
   },
   {
    "duration": 173,
    "start_time": "2022-11-17T09:17:38.545Z"
   },
   {
    "duration": 127,
    "start_time": "2022-11-17T09:17:38.719Z"
   },
   {
    "duration": 12,
    "start_time": "2022-11-17T09:17:38.850Z"
   },
   {
    "duration": 381,
    "start_time": "2022-11-17T09:17:38.863Z"
   },
   {
    "duration": 318,
    "start_time": "2022-11-17T09:17:39.245Z"
   },
   {
    "duration": 365,
    "start_time": "2022-11-17T09:17:39.565Z"
   },
   {
    "duration": 320,
    "start_time": "2022-11-17T09:17:39.932Z"
   },
   {
    "duration": 350,
    "start_time": "2022-11-17T09:17:40.254Z"
   },
   {
    "duration": 413,
    "start_time": "2022-11-17T09:17:40.605Z"
   },
   {
    "duration": 208,
    "start_time": "2022-11-17T09:17:41.020Z"
   },
   {
    "duration": 5,
    "start_time": "2022-11-17T09:17:41.230Z"
   },
   {
    "duration": 507,
    "start_time": "2022-11-17T09:17:41.237Z"
   },
   {
    "duration": 6,
    "start_time": "2022-11-17T09:17:41.746Z"
   },
   {
    "duration": 245,
    "start_time": "2022-11-17T09:17:41.753Z"
   },
   {
    "duration": 156,
    "start_time": "2022-11-17T09:17:41.999Z"
   },
   {
    "duration": 9,
    "start_time": "2022-11-17T09:17:42.156Z"
   },
   {
    "duration": 167,
    "start_time": "2022-11-17T09:17:42.167Z"
   },
   {
    "duration": 22,
    "start_time": "2022-11-17T09:17:42.336Z"
   },
   {
    "duration": 10,
    "start_time": "2022-11-17T09:17:42.360Z"
   },
   {
    "duration": 9,
    "start_time": "2022-11-17T09:17:42.371Z"
   },
   {
    "duration": 53,
    "start_time": "2022-11-17T09:17:42.382Z"
   },
   {
    "duration": 16,
    "start_time": "2022-11-17T09:17:42.436Z"
   },
   {
    "duration": 17,
    "start_time": "2022-11-17T09:18:24.859Z"
   },
   {
    "duration": 10,
    "start_time": "2022-11-17T09:19:46.199Z"
   },
   {
    "duration": 106,
    "start_time": "2022-11-17T09:21:10.440Z"
   },
   {
    "duration": 14,
    "start_time": "2022-11-17T09:21:26.192Z"
   },
   {
    "duration": 12,
    "start_time": "2022-11-17T09:21:43.493Z"
   },
   {
    "duration": 1063,
    "start_time": "2022-11-17T09:21:48.885Z"
   },
   {
    "duration": 109,
    "start_time": "2022-11-17T09:21:49.950Z"
   },
   {
    "duration": 11,
    "start_time": "2022-11-17T09:21:50.061Z"
   },
   {
    "duration": 16,
    "start_time": "2022-11-17T09:21:50.074Z"
   },
   {
    "duration": 38,
    "start_time": "2022-11-17T09:21:50.092Z"
   },
   {
    "duration": 54,
    "start_time": "2022-11-17T09:21:50.132Z"
   },
   {
    "duration": 5,
    "start_time": "2022-11-17T09:21:50.188Z"
   },
   {
    "duration": 63,
    "start_time": "2022-11-17T09:21:50.195Z"
   },
   {
    "duration": 10,
    "start_time": "2022-11-17T09:21:50.260Z"
   },
   {
    "duration": 13,
    "start_time": "2022-11-17T09:21:50.273Z"
   },
   {
    "duration": 15,
    "start_time": "2022-11-17T09:21:50.288Z"
   },
   {
    "duration": 12,
    "start_time": "2022-11-17T09:21:50.305Z"
   },
   {
    "duration": 103,
    "start_time": "2022-11-17T09:21:50.319Z"
   },
   {
    "duration": 0,
    "start_time": "2022-11-17T09:21:50.424Z"
   },
   {
    "duration": 0,
    "start_time": "2022-11-17T09:21:50.425Z"
   },
   {
    "duration": 0,
    "start_time": "2022-11-17T09:21:50.427Z"
   },
   {
    "duration": 0,
    "start_time": "2022-11-17T09:21:50.428Z"
   },
   {
    "duration": 0,
    "start_time": "2022-11-17T09:21:50.429Z"
   },
   {
    "duration": 0,
    "start_time": "2022-11-17T09:21:50.430Z"
   },
   {
    "duration": 0,
    "start_time": "2022-11-17T09:21:50.431Z"
   },
   {
    "duration": 0,
    "start_time": "2022-11-17T09:21:50.432Z"
   },
   {
    "duration": 0,
    "start_time": "2022-11-17T09:21:50.433Z"
   },
   {
    "duration": 0,
    "start_time": "2022-11-17T09:21:50.434Z"
   },
   {
    "duration": 0,
    "start_time": "2022-11-17T09:21:50.435Z"
   },
   {
    "duration": 0,
    "start_time": "2022-11-17T09:21:50.436Z"
   },
   {
    "duration": 1,
    "start_time": "2022-11-17T09:21:50.437Z"
   },
   {
    "duration": 0,
    "start_time": "2022-11-17T09:21:50.439Z"
   },
   {
    "duration": 0,
    "start_time": "2022-11-17T09:21:50.440Z"
   },
   {
    "duration": 0,
    "start_time": "2022-11-17T09:21:50.441Z"
   },
   {
    "duration": 0,
    "start_time": "2022-11-17T09:21:50.442Z"
   },
   {
    "duration": 0,
    "start_time": "2022-11-17T09:21:50.443Z"
   },
   {
    "duration": 0,
    "start_time": "2022-11-17T09:21:50.444Z"
   },
   {
    "duration": 0,
    "start_time": "2022-11-17T09:21:50.445Z"
   },
   {
    "duration": 0,
    "start_time": "2022-11-17T09:21:50.446Z"
   },
   {
    "duration": 0,
    "start_time": "2022-11-17T09:21:50.447Z"
   },
   {
    "duration": 0,
    "start_time": "2022-11-17T09:21:50.448Z"
   },
   {
    "duration": 0,
    "start_time": "2022-11-17T09:21:50.449Z"
   },
   {
    "duration": 0,
    "start_time": "2022-11-17T09:21:50.450Z"
   },
   {
    "duration": 0,
    "start_time": "2022-11-17T09:21:50.452Z"
   },
   {
    "duration": 0,
    "start_time": "2022-11-17T09:21:50.453Z"
   },
   {
    "duration": 0,
    "start_time": "2022-11-17T09:21:50.454Z"
   },
   {
    "duration": 0,
    "start_time": "2022-11-17T09:21:50.511Z"
   },
   {
    "duration": 0,
    "start_time": "2022-11-17T09:21:50.513Z"
   },
   {
    "duration": 0,
    "start_time": "2022-11-17T09:21:50.514Z"
   },
   {
    "duration": 0,
    "start_time": "2022-11-17T09:21:50.515Z"
   },
   {
    "duration": 0,
    "start_time": "2022-11-17T09:21:50.516Z"
   },
   {
    "duration": 0,
    "start_time": "2022-11-17T09:21:50.517Z"
   },
   {
    "duration": 10,
    "start_time": "2022-11-17T09:57:00.855Z"
   },
   {
    "duration": 1093,
    "start_time": "2022-11-17T09:57:16.375Z"
   },
   {
    "duration": 123,
    "start_time": "2022-11-17T09:57:17.471Z"
   },
   {
    "duration": 11,
    "start_time": "2022-11-17T09:57:17.596Z"
   },
   {
    "duration": 10,
    "start_time": "2022-11-17T09:57:17.610Z"
   },
   {
    "duration": 18,
    "start_time": "2022-11-17T09:57:17.622Z"
   },
   {
    "duration": 59,
    "start_time": "2022-11-17T09:57:17.642Z"
   },
   {
    "duration": 11,
    "start_time": "2022-11-17T09:57:17.703Z"
   },
   {
    "duration": 65,
    "start_time": "2022-11-17T09:57:17.717Z"
   },
   {
    "duration": 12,
    "start_time": "2022-11-17T09:57:17.783Z"
   },
   {
    "duration": 48,
    "start_time": "2022-11-17T09:57:17.798Z"
   },
   {
    "duration": 42,
    "start_time": "2022-11-17T09:57:17.848Z"
   },
   {
    "duration": 32,
    "start_time": "2022-11-17T09:57:17.892Z"
   },
   {
    "duration": 25,
    "start_time": "2022-11-17T09:57:17.926Z"
   },
   {
    "duration": 42,
    "start_time": "2022-11-17T09:57:17.953Z"
   },
   {
    "duration": 27,
    "start_time": "2022-11-17T09:57:17.996Z"
   },
   {
    "duration": 37,
    "start_time": "2022-11-17T09:57:18.025Z"
   },
   {
    "duration": 32,
    "start_time": "2022-11-17T09:57:18.064Z"
   },
   {
    "duration": 55,
    "start_time": "2022-11-17T09:57:18.098Z"
   },
   {
    "duration": 21,
    "start_time": "2022-11-17T09:57:18.155Z"
   },
   {
    "duration": 44,
    "start_time": "2022-11-17T09:57:18.178Z"
   },
   {
    "duration": 34,
    "start_time": "2022-11-17T09:57:18.225Z"
   },
   {
    "duration": 20,
    "start_time": "2022-11-17T09:57:18.261Z"
   },
   {
    "duration": 10,
    "start_time": "2022-11-17T09:57:18.284Z"
   },
   {
    "duration": 44,
    "start_time": "2022-11-17T09:57:18.296Z"
   },
   {
    "duration": 38,
    "start_time": "2022-11-17T09:57:18.342Z"
   },
   {
    "duration": 25,
    "start_time": "2022-11-17T09:57:18.382Z"
   },
   {
    "duration": 190,
    "start_time": "2022-11-17T09:57:18.409Z"
   },
   {
    "duration": 131,
    "start_time": "2022-11-17T09:57:18.602Z"
   },
   {
    "duration": 13,
    "start_time": "2022-11-17T09:57:18.735Z"
   },
   {
    "duration": 426,
    "start_time": "2022-11-17T09:57:18.750Z"
   },
   {
    "duration": 354,
    "start_time": "2022-11-17T09:57:19.178Z"
   },
   {
    "duration": 387,
    "start_time": "2022-11-17T09:57:19.533Z"
   },
   {
    "duration": 338,
    "start_time": "2022-11-17T09:57:19.922Z"
   },
   {
    "duration": 364,
    "start_time": "2022-11-17T09:57:20.262Z"
   },
   {
    "duration": 405,
    "start_time": "2022-11-17T09:57:20.628Z"
   },
   {
    "duration": 214,
    "start_time": "2022-11-17T09:57:21.036Z"
   },
   {
    "duration": 6,
    "start_time": "2022-11-17T09:57:21.252Z"
   },
   {
    "duration": 483,
    "start_time": "2022-11-17T09:57:21.259Z"
   },
   {
    "duration": 6,
    "start_time": "2022-11-17T09:57:21.743Z"
   },
   {
    "duration": 272,
    "start_time": "2022-11-17T09:57:21.751Z"
   },
   {
    "duration": 188,
    "start_time": "2022-11-17T09:57:22.025Z"
   },
   {
    "duration": 9,
    "start_time": "2022-11-17T09:57:22.215Z"
   },
   {
    "duration": 166,
    "start_time": "2022-11-17T09:57:22.226Z"
   },
   {
    "duration": 28,
    "start_time": "2022-11-17T09:57:22.394Z"
   },
   {
    "duration": 11,
    "start_time": "2022-11-17T09:57:22.424Z"
   },
   {
    "duration": 11,
    "start_time": "2022-11-17T09:57:22.437Z"
   },
   {
    "duration": 30,
    "start_time": "2022-11-17T09:57:22.450Z"
   },
   {
    "duration": 41,
    "start_time": "2022-11-17T09:57:22.482Z"
   },
   {
    "duration": 1081,
    "start_time": "2022-11-17T10:40:10.864Z"
   },
   {
    "duration": 184,
    "start_time": "2022-11-17T10:40:11.947Z"
   },
   {
    "duration": 12,
    "start_time": "2022-11-17T10:40:12.133Z"
   },
   {
    "duration": 26,
    "start_time": "2022-11-17T10:40:12.147Z"
   },
   {
    "duration": 53,
    "start_time": "2022-11-17T10:40:12.176Z"
   },
   {
    "duration": 94,
    "start_time": "2022-11-17T10:40:12.234Z"
   },
   {
    "duration": 5,
    "start_time": "2022-11-17T10:40:12.330Z"
   },
   {
    "duration": 127,
    "start_time": "2022-11-17T10:40:12.337Z"
   },
   {
    "duration": 10,
    "start_time": "2022-11-17T10:40:12.465Z"
   },
   {
    "duration": 21,
    "start_time": "2022-11-17T10:40:12.478Z"
   },
   {
    "duration": 42,
    "start_time": "2022-11-17T10:40:12.500Z"
   },
   {
    "duration": 36,
    "start_time": "2022-11-17T10:40:12.544Z"
   },
   {
    "duration": 22,
    "start_time": "2022-11-17T10:40:12.581Z"
   },
   {
    "duration": 43,
    "start_time": "2022-11-17T10:40:12.605Z"
   },
   {
    "duration": 42,
    "start_time": "2022-11-17T10:40:12.650Z"
   },
   {
    "duration": 137,
    "start_time": "2022-11-17T10:40:12.694Z"
   },
   {
    "duration": 8,
    "start_time": "2022-11-17T10:40:12.832Z"
   },
   {
    "duration": 42,
    "start_time": "2022-11-17T10:40:12.841Z"
   },
   {
    "duration": 27,
    "start_time": "2022-11-17T10:40:12.884Z"
   },
   {
    "duration": 34,
    "start_time": "2022-11-17T10:40:12.919Z"
   },
   {
    "duration": 13,
    "start_time": "2022-11-17T10:40:12.955Z"
   },
   {
    "duration": 38,
    "start_time": "2022-11-17T10:40:12.969Z"
   },
   {
    "duration": 38,
    "start_time": "2022-11-17T10:40:13.009Z"
   },
   {
    "duration": 29,
    "start_time": "2022-11-17T10:40:13.049Z"
   },
   {
    "duration": 218,
    "start_time": "2022-11-17T10:40:13.080Z"
   },
   {
    "duration": 139,
    "start_time": "2022-11-17T10:40:13.300Z"
   },
   {
    "duration": 13,
    "start_time": "2022-11-17T10:40:13.441Z"
   },
   {
    "duration": 428,
    "start_time": "2022-11-17T10:40:13.457Z"
   },
   {
    "duration": 341,
    "start_time": "2022-11-17T10:40:13.887Z"
   },
   {
    "duration": 419,
    "start_time": "2022-11-17T10:40:14.232Z"
   },
   {
    "duration": 353,
    "start_time": "2022-11-17T10:40:14.653Z"
   },
   {
    "duration": 422,
    "start_time": "2022-11-17T10:40:15.008Z"
   },
   {
    "duration": 509,
    "start_time": "2022-11-17T10:40:15.432Z"
   },
   {
    "duration": 238,
    "start_time": "2022-11-17T10:40:15.943Z"
   },
   {
    "duration": 6,
    "start_time": "2022-11-17T10:40:16.184Z"
   },
   {
    "duration": 575,
    "start_time": "2022-11-17T10:40:16.191Z"
   },
   {
    "duration": 6,
    "start_time": "2022-11-17T10:40:16.768Z"
   },
   {
    "duration": 278,
    "start_time": "2022-11-17T10:40:16.776Z"
   },
   {
    "duration": 180,
    "start_time": "2022-11-17T10:40:17.056Z"
   },
   {
    "duration": 9,
    "start_time": "2022-11-17T10:40:17.238Z"
   },
   {
    "duration": 177,
    "start_time": "2022-11-17T10:40:17.249Z"
   },
   {
    "duration": 23,
    "start_time": "2022-11-17T10:40:17.428Z"
   },
   {
    "duration": 11,
    "start_time": "2022-11-17T10:40:17.453Z"
   },
   {
    "duration": 9,
    "start_time": "2022-11-17T10:40:17.466Z"
   },
   {
    "duration": 62,
    "start_time": "2022-11-17T10:40:17.477Z"
   },
   {
    "duration": 17,
    "start_time": "2022-11-17T10:40:17.541Z"
   },
   {
    "duration": 12,
    "start_time": "2022-11-17T10:48:38.352Z"
   },
   {
    "duration": 136,
    "start_time": "2022-11-17T10:52:28.111Z"
   },
   {
    "duration": 12,
    "start_time": "2022-11-17T10:52:45.213Z"
   },
   {
    "duration": 21,
    "start_time": "2022-11-17T10:53:17.222Z"
   },
   {
    "duration": 18,
    "start_time": "2022-11-17T10:54:49.444Z"
   },
   {
    "duration": 16,
    "start_time": "2022-11-17T10:55:19.831Z"
   },
   {
    "duration": 5,
    "start_time": "2022-11-17T11:03:08.066Z"
   },
   {
    "duration": 432,
    "start_time": "2022-11-17T11:09:29.606Z"
   },
   {
    "duration": 532,
    "start_time": "2022-11-17T11:10:00.963Z"
   },
   {
    "duration": 922,
    "start_time": "2022-11-17T11:11:08.973Z"
   },
   {
    "duration": 427,
    "start_time": "2022-11-17T11:12:00.049Z"
   },
   {
    "duration": 23,
    "start_time": "2022-11-17T11:21:05.741Z"
   },
   {
    "duration": 10,
    "start_time": "2022-11-17T11:21:20.662Z"
   },
   {
    "duration": 22,
    "start_time": "2022-11-17T11:22:21.784Z"
   },
   {
    "duration": 39,
    "start_time": "2022-11-17T11:22:28.135Z"
   },
   {
    "duration": 48,
    "start_time": "2022-11-17T11:23:00.721Z"
   },
   {
    "duration": 54,
    "start_time": "2022-11-17T11:23:06.594Z"
   },
   {
    "duration": 13,
    "start_time": "2022-11-17T11:23:29.674Z"
   },
   {
    "duration": 11,
    "start_time": "2022-11-17T11:28:15.870Z"
   },
   {
    "duration": 60,
    "start_time": "2022-11-17T11:28:46.208Z"
   },
   {
    "duration": 16,
    "start_time": "2022-11-17T11:28:52.911Z"
   },
   {
    "duration": 65,
    "start_time": "2022-11-17T11:30:39.411Z"
   },
   {
    "duration": 30,
    "start_time": "2022-11-17T11:31:00.576Z"
   },
   {
    "duration": 16,
    "start_time": "2022-11-17T11:33:14.628Z"
   },
   {
    "duration": 1210,
    "start_time": "2022-11-17T15:46:29.052Z"
   },
   {
    "duration": 169,
    "start_time": "2022-11-17T15:46:30.264Z"
   },
   {
    "duration": 14,
    "start_time": "2022-11-17T15:46:30.435Z"
   },
   {
    "duration": 21,
    "start_time": "2022-11-17T15:46:30.452Z"
   },
   {
    "duration": 26,
    "start_time": "2022-11-17T15:46:30.475Z"
   },
   {
    "duration": 81,
    "start_time": "2022-11-17T15:46:30.503Z"
   },
   {
    "duration": 6,
    "start_time": "2022-11-17T15:46:30.586Z"
   },
   {
    "duration": 116,
    "start_time": "2022-11-17T15:46:30.594Z"
   },
   {
    "duration": 11,
    "start_time": "2022-11-17T15:46:30.712Z"
   },
   {
    "duration": 34,
    "start_time": "2022-11-17T15:46:30.728Z"
   },
   {
    "duration": 49,
    "start_time": "2022-11-17T15:46:30.764Z"
   },
   {
    "duration": 44,
    "start_time": "2022-11-17T15:46:30.815Z"
   },
   {
    "duration": 29,
    "start_time": "2022-11-17T15:46:30.861Z"
   },
   {
    "duration": 21,
    "start_time": "2022-11-17T15:46:30.892Z"
   },
   {
    "duration": 20,
    "start_time": "2022-11-17T15:46:30.915Z"
   },
   {
    "duration": 56,
    "start_time": "2022-11-17T15:46:30.937Z"
   },
   {
    "duration": 11,
    "start_time": "2022-11-17T15:46:30.995Z"
   },
   {
    "duration": 28,
    "start_time": "2022-11-17T15:46:31.008Z"
   },
   {
    "duration": 33,
    "start_time": "2022-11-17T15:46:31.038Z"
   },
   {
    "duration": 27,
    "start_time": "2022-11-17T15:46:31.073Z"
   },
   {
    "duration": 31,
    "start_time": "2022-11-17T15:46:31.103Z"
   },
   {
    "duration": 51,
    "start_time": "2022-11-17T15:46:31.136Z"
   },
   {
    "duration": 25,
    "start_time": "2022-11-17T15:46:31.189Z"
   },
   {
    "duration": 35,
    "start_time": "2022-11-17T15:46:31.216Z"
   },
   {
    "duration": 18,
    "start_time": "2022-11-17T15:46:31.253Z"
   },
   {
    "duration": 231,
    "start_time": "2022-11-17T15:46:31.273Z"
   },
   {
    "duration": 177,
    "start_time": "2022-11-17T15:46:31.506Z"
   },
   {
    "duration": 29,
    "start_time": "2022-11-17T15:46:31.687Z"
   },
   {
    "duration": 501,
    "start_time": "2022-11-17T15:46:31.718Z"
   },
   {
    "duration": 21,
    "start_time": "2022-11-17T15:46:32.221Z"
   },
   {
    "duration": 348,
    "start_time": "2022-11-17T15:46:32.244Z"
   },
   {
    "duration": 410,
    "start_time": "2022-11-17T15:46:32.595Z"
   },
   {
    "duration": 338,
    "start_time": "2022-11-17T15:46:33.007Z"
   },
   {
    "duration": 495,
    "start_time": "2022-11-17T15:46:33.348Z"
   },
   {
    "duration": 403,
    "start_time": "2022-11-17T15:46:33.845Z"
   },
   {
    "duration": 310,
    "start_time": "2022-11-17T15:46:34.250Z"
   },
   {
    "duration": 6,
    "start_time": "2022-11-17T15:46:34.562Z"
   },
   {
    "duration": 17,
    "start_time": "2022-11-17T15:46:34.570Z"
   },
   {
    "duration": 547,
    "start_time": "2022-11-17T15:46:34.589Z"
   },
   {
    "duration": 364,
    "start_time": "2022-11-17T15:46:35.137Z"
   },
   {
    "duration": 13,
    "start_time": "2022-11-17T15:46:35.503Z"
   },
   {
    "duration": 280,
    "start_time": "2022-11-17T15:46:35.518Z"
   },
   {
    "duration": 171,
    "start_time": "2022-11-17T15:46:35.801Z"
   },
   {
    "duration": 8,
    "start_time": "2022-11-17T15:46:35.974Z"
   },
   {
    "duration": 156,
    "start_time": "2022-11-17T15:46:35.984Z"
   },
   {
    "duration": 23,
    "start_time": "2022-11-17T15:46:36.141Z"
   },
   {
    "duration": 13,
    "start_time": "2022-11-17T15:46:36.166Z"
   },
   {
    "duration": 31,
    "start_time": "2022-11-17T15:46:36.181Z"
   },
   {
    "duration": 40,
    "start_time": "2022-11-17T15:46:36.214Z"
   },
   {
    "duration": 18,
    "start_time": "2022-11-17T15:46:36.257Z"
   },
   {
    "duration": 45,
    "start_time": "2022-11-17T16:28:57.095Z"
   },
   {
    "duration": 1236,
    "start_time": "2022-11-17T16:30:09.586Z"
   },
   {
    "duration": 498,
    "start_time": "2022-11-17T16:30:10.824Z"
   },
   {
    "duration": 10,
    "start_time": "2022-11-17T16:30:11.323Z"
   },
   {
    "duration": 7,
    "start_time": "2022-11-17T16:30:11.335Z"
   },
   {
    "duration": 16,
    "start_time": "2022-11-17T16:30:11.343Z"
   },
   {
    "duration": 54,
    "start_time": "2022-11-17T16:30:11.361Z"
   },
   {
    "duration": 5,
    "start_time": "2022-11-17T16:30:11.417Z"
   },
   {
    "duration": 39,
    "start_time": "2022-11-17T16:30:11.424Z"
   },
   {
    "duration": 7,
    "start_time": "2022-11-17T16:30:11.465Z"
   },
   {
    "duration": 9,
    "start_time": "2022-11-17T16:30:11.475Z"
   },
   {
    "duration": 14,
    "start_time": "2022-11-17T16:30:11.486Z"
   },
   {
    "duration": 13,
    "start_time": "2022-11-17T16:30:11.502Z"
   },
   {
    "duration": 101,
    "start_time": "2022-11-17T16:30:11.517Z"
   },
   {
    "duration": 0,
    "start_time": "2022-11-17T16:30:11.621Z"
   },
   {
    "duration": 0,
    "start_time": "2022-11-17T16:30:11.623Z"
   },
   {
    "duration": 0,
    "start_time": "2022-11-17T16:30:11.624Z"
   },
   {
    "duration": 0,
    "start_time": "2022-11-17T16:30:11.626Z"
   },
   {
    "duration": 0,
    "start_time": "2022-11-17T16:30:11.627Z"
   },
   {
    "duration": 0,
    "start_time": "2022-11-17T16:30:11.628Z"
   },
   {
    "duration": 0,
    "start_time": "2022-11-17T16:30:11.630Z"
   },
   {
    "duration": 0,
    "start_time": "2022-11-17T16:30:11.631Z"
   },
   {
    "duration": 0,
    "start_time": "2022-11-17T16:30:11.637Z"
   },
   {
    "duration": 0,
    "start_time": "2022-11-17T16:30:11.638Z"
   },
   {
    "duration": 0,
    "start_time": "2022-11-17T16:30:11.640Z"
   },
   {
    "duration": 0,
    "start_time": "2022-11-17T16:30:11.641Z"
   },
   {
    "duration": 0,
    "start_time": "2022-11-17T16:30:11.642Z"
   },
   {
    "duration": 0,
    "start_time": "2022-11-17T16:30:11.644Z"
   },
   {
    "duration": 0,
    "start_time": "2022-11-17T16:30:11.645Z"
   },
   {
    "duration": 0,
    "start_time": "2022-11-17T16:30:11.647Z"
   },
   {
    "duration": 0,
    "start_time": "2022-11-17T16:30:11.648Z"
   },
   {
    "duration": 0,
    "start_time": "2022-11-17T16:30:11.649Z"
   },
   {
    "duration": 1,
    "start_time": "2022-11-17T16:30:11.650Z"
   },
   {
    "duration": 0,
    "start_time": "2022-11-17T16:30:11.652Z"
   },
   {
    "duration": 0,
    "start_time": "2022-11-17T16:30:11.653Z"
   },
   {
    "duration": 0,
    "start_time": "2022-11-17T16:30:11.654Z"
   },
   {
    "duration": 0,
    "start_time": "2022-11-17T16:30:11.655Z"
   },
   {
    "duration": 0,
    "start_time": "2022-11-17T16:30:11.656Z"
   },
   {
    "duration": 0,
    "start_time": "2022-11-17T16:30:11.712Z"
   },
   {
    "duration": 0,
    "start_time": "2022-11-17T16:30:11.713Z"
   },
   {
    "duration": 0,
    "start_time": "2022-11-17T16:30:11.714Z"
   },
   {
    "duration": 0,
    "start_time": "2022-11-17T16:30:11.715Z"
   },
   {
    "duration": 0,
    "start_time": "2022-11-17T16:30:11.716Z"
   },
   {
    "duration": 0,
    "start_time": "2022-11-17T16:30:11.717Z"
   },
   {
    "duration": 0,
    "start_time": "2022-11-17T16:30:11.718Z"
   },
   {
    "duration": 0,
    "start_time": "2022-11-17T16:30:11.719Z"
   },
   {
    "duration": 0,
    "start_time": "2022-11-17T16:30:11.720Z"
   },
   {
    "duration": 0,
    "start_time": "2022-11-17T16:30:11.721Z"
   },
   {
    "duration": 0,
    "start_time": "2022-11-17T16:30:11.722Z"
   },
   {
    "duration": 0,
    "start_time": "2022-11-17T16:30:11.723Z"
   },
   {
    "duration": 0,
    "start_time": "2022-11-17T16:30:11.724Z"
   },
   {
    "duration": 0,
    "start_time": "2022-11-17T16:30:11.725Z"
   },
   {
    "duration": 1003,
    "start_time": "2022-11-17T16:31:18.600Z"
   },
   {
    "duration": 96,
    "start_time": "2022-11-17T16:31:19.605Z"
   },
   {
    "duration": 10,
    "start_time": "2022-11-17T16:31:19.702Z"
   },
   {
    "duration": 8,
    "start_time": "2022-11-17T16:31:19.713Z"
   },
   {
    "duration": 13,
    "start_time": "2022-11-17T16:31:19.722Z"
   },
   {
    "duration": 45,
    "start_time": "2022-11-17T16:31:19.737Z"
   },
   {
    "duration": 5,
    "start_time": "2022-11-17T16:31:19.783Z"
   },
   {
    "duration": 64,
    "start_time": "2022-11-17T16:31:19.789Z"
   },
   {
    "duration": 8,
    "start_time": "2022-11-17T16:31:19.854Z"
   },
   {
    "duration": 12,
    "start_time": "2022-11-17T16:31:19.864Z"
   },
   {
    "duration": 11,
    "start_time": "2022-11-17T16:31:19.877Z"
   },
   {
    "duration": 7,
    "start_time": "2022-11-17T16:31:19.890Z"
   },
   {
    "duration": 8,
    "start_time": "2022-11-17T16:31:19.898Z"
   },
   {
    "duration": 11,
    "start_time": "2022-11-17T16:31:19.907Z"
   },
   {
    "duration": 6,
    "start_time": "2022-11-17T16:31:19.919Z"
   },
   {
    "duration": 45,
    "start_time": "2022-11-17T16:31:19.927Z"
   },
   {
    "duration": 8,
    "start_time": "2022-11-17T16:31:19.973Z"
   },
   {
    "duration": 10,
    "start_time": "2022-11-17T16:31:19.982Z"
   },
   {
    "duration": 14,
    "start_time": "2022-11-17T16:31:19.993Z"
   },
   {
    "duration": 14,
    "start_time": "2022-11-17T16:31:20.008Z"
   },
   {
    "duration": 7,
    "start_time": "2022-11-17T16:31:20.024Z"
   },
   {
    "duration": 20,
    "start_time": "2022-11-17T16:31:20.033Z"
   },
   {
    "duration": 10,
    "start_time": "2022-11-17T16:31:20.054Z"
   },
   {
    "duration": 12,
    "start_time": "2022-11-17T16:31:20.066Z"
   },
   {
    "duration": 11,
    "start_time": "2022-11-17T16:31:20.079Z"
   },
   {
    "duration": 24,
    "start_time": "2022-11-17T16:31:20.091Z"
   },
   {
    "duration": 174,
    "start_time": "2022-11-17T16:31:20.117Z"
   },
   {
    "duration": 144,
    "start_time": "2022-11-17T16:31:20.295Z"
   },
   {
    "duration": 13,
    "start_time": "2022-11-17T16:31:20.440Z"
   },
   {
    "duration": 326,
    "start_time": "2022-11-17T16:31:20.454Z"
   },
   {
    "duration": 15,
    "start_time": "2022-11-17T16:31:20.781Z"
   },
   {
    "duration": 272,
    "start_time": "2022-11-17T16:31:20.797Z"
   },
   {
    "duration": 323,
    "start_time": "2022-11-17T16:31:21.070Z"
   },
   {
    "duration": 281,
    "start_time": "2022-11-17T16:31:21.394Z"
   },
   {
    "duration": 357,
    "start_time": "2022-11-17T16:31:21.677Z"
   },
   {
    "duration": 394,
    "start_time": "2022-11-17T16:31:22.035Z"
   },
   {
    "duration": 388,
    "start_time": "2022-11-17T16:31:22.431Z"
   },
   {
    "duration": 4,
    "start_time": "2022-11-17T16:31:22.820Z"
   },
   {
    "duration": 20,
    "start_time": "2022-11-17T16:31:22.825Z"
   },
   {
    "duration": 794,
    "start_time": "2022-11-17T16:31:22.846Z"
   },
   {
    "duration": 514,
    "start_time": "2022-11-17T16:31:23.641Z"
   },
   {
    "duration": 56,
    "start_time": "2022-11-17T16:31:24.157Z"
   },
   {
    "duration": 199,
    "start_time": "2022-11-17T16:31:24.215Z"
   },
   {
    "duration": 137,
    "start_time": "2022-11-17T16:31:24.416Z"
   },
   {
    "duration": 9,
    "start_time": "2022-11-17T16:31:24.554Z"
   },
   {
    "duration": 165,
    "start_time": "2022-11-17T16:31:24.565Z"
   },
   {
    "duration": 19,
    "start_time": "2022-11-17T16:31:24.732Z"
   },
   {
    "duration": 9,
    "start_time": "2022-11-17T16:31:24.752Z"
   },
   {
    "duration": 8,
    "start_time": "2022-11-17T16:31:24.763Z"
   },
   {
    "duration": 50,
    "start_time": "2022-11-17T16:31:24.772Z"
   },
   {
    "duration": 16,
    "start_time": "2022-11-17T16:31:24.824Z"
   },
   {
    "duration": 71,
    "start_time": "2022-11-17T16:42:34.297Z"
   },
   {
    "duration": 7,
    "start_time": "2022-11-17T16:55:03.163Z"
   },
   {
    "duration": 5,
    "start_time": "2022-11-17T16:56:21.206Z"
   },
   {
    "duration": 1019,
    "start_time": "2022-11-17T16:57:00.820Z"
   },
   {
    "duration": 120,
    "start_time": "2022-11-17T16:57:01.841Z"
   },
   {
    "duration": 11,
    "start_time": "2022-11-17T16:57:01.962Z"
   },
   {
    "duration": 13,
    "start_time": "2022-11-17T16:57:01.975Z"
   },
   {
    "duration": 29,
    "start_time": "2022-11-17T16:57:01.989Z"
   },
   {
    "duration": 72,
    "start_time": "2022-11-17T16:57:02.020Z"
   },
   {
    "duration": 5,
    "start_time": "2022-11-17T16:57:02.094Z"
   },
   {
    "duration": 340,
    "start_time": "2022-11-17T16:57:02.100Z"
   },
   {
    "duration": 8,
    "start_time": "2022-11-17T16:57:02.442Z"
   },
   {
    "duration": 11,
    "start_time": "2022-11-17T16:57:02.453Z"
   },
   {
    "duration": 12,
    "start_time": "2022-11-17T16:57:02.465Z"
   },
   {
    "duration": 8,
    "start_time": "2022-11-17T16:57:02.478Z"
   },
   {
    "duration": 7,
    "start_time": "2022-11-17T16:57:02.488Z"
   },
   {
    "duration": 6,
    "start_time": "2022-11-17T16:57:02.496Z"
   },
   {
    "duration": 17,
    "start_time": "2022-11-17T16:57:02.503Z"
   },
   {
    "duration": 5,
    "start_time": "2022-11-17T16:57:02.522Z"
   },
   {
    "duration": 61,
    "start_time": "2022-11-17T16:57:02.528Z"
   },
   {
    "duration": 6,
    "start_time": "2022-11-17T16:57:02.590Z"
   },
   {
    "duration": 11,
    "start_time": "2022-11-17T16:57:02.598Z"
   },
   {
    "duration": 11,
    "start_time": "2022-11-17T16:57:02.611Z"
   },
   {
    "duration": 13,
    "start_time": "2022-11-17T16:57:02.623Z"
   },
   {
    "duration": 7,
    "start_time": "2022-11-17T16:57:02.637Z"
   },
   {
    "duration": 11,
    "start_time": "2022-11-17T16:57:02.646Z"
   },
   {
    "duration": 13,
    "start_time": "2022-11-17T16:57:02.659Z"
   },
   {
    "duration": 10,
    "start_time": "2022-11-17T16:57:02.673Z"
   },
   {
    "duration": 32,
    "start_time": "2022-11-17T16:57:02.685Z"
   },
   {
    "duration": 159,
    "start_time": "2022-11-17T16:57:02.719Z"
   },
   {
    "duration": 112,
    "start_time": "2022-11-17T16:57:02.882Z"
   },
   {
    "duration": 18,
    "start_time": "2022-11-17T16:57:02.995Z"
   },
   {
    "duration": 317,
    "start_time": "2022-11-17T16:57:03.014Z"
   },
   {
    "duration": 15,
    "start_time": "2022-11-17T16:57:03.333Z"
   },
   {
    "duration": 280,
    "start_time": "2022-11-17T16:57:03.349Z"
   },
   {
    "duration": 332,
    "start_time": "2022-11-17T16:57:03.631Z"
   },
   {
    "duration": 452,
    "start_time": "2022-11-17T16:57:03.965Z"
   },
   {
    "duration": 524,
    "start_time": "2022-11-17T16:57:04.419Z"
   },
   {
    "duration": 785,
    "start_time": "2022-11-17T16:57:04.944Z"
   },
   {
    "duration": 345,
    "start_time": "2022-11-17T16:57:05.731Z"
   },
   {
    "duration": 38,
    "start_time": "2022-11-17T16:57:06.078Z"
   },
   {
    "duration": 7,
    "start_time": "2022-11-17T16:57:06.117Z"
   },
   {
    "duration": 488,
    "start_time": "2022-11-17T16:57:06.126Z"
   },
   {
    "duration": 339,
    "start_time": "2022-11-17T16:57:06.616Z"
   },
   {
    "duration": 5,
    "start_time": "2022-11-17T16:57:06.957Z"
   },
   {
    "duration": 222,
    "start_time": "2022-11-17T16:57:06.964Z"
   },
   {
    "duration": 136,
    "start_time": "2022-11-17T16:57:07.187Z"
   },
   {
    "duration": 8,
    "start_time": "2022-11-17T16:57:07.325Z"
   },
   {
    "duration": 140,
    "start_time": "2022-11-17T16:57:07.334Z"
   },
   {
    "duration": 20,
    "start_time": "2022-11-17T16:57:07.476Z"
   },
   {
    "duration": 20,
    "start_time": "2022-11-17T16:57:07.498Z"
   },
   {
    "duration": 8,
    "start_time": "2022-11-17T16:57:07.520Z"
   },
   {
    "duration": 25,
    "start_time": "2022-11-17T16:57:07.530Z"
   },
   {
    "duration": 16,
    "start_time": "2022-11-17T16:57:07.557Z"
   },
   {
    "duration": 10,
    "start_time": "2022-11-17T16:57:34.380Z"
   },
   {
    "duration": 8,
    "start_time": "2022-11-17T17:03:09.253Z"
   },
   {
    "duration": 6,
    "start_time": "2022-11-17T17:03:09.951Z"
   },
   {
    "duration": 10,
    "start_time": "2022-11-17T17:03:11.285Z"
   },
   {
    "duration": 999,
    "start_time": "2022-11-17T17:03:19.847Z"
   },
   {
    "duration": 98,
    "start_time": "2022-11-17T17:03:20.849Z"
   },
   {
    "duration": 14,
    "start_time": "2022-11-17T17:03:20.949Z"
   },
   {
    "duration": 9,
    "start_time": "2022-11-17T17:03:20.965Z"
   },
   {
    "duration": 19,
    "start_time": "2022-11-17T17:03:20.976Z"
   },
   {
    "duration": 66,
    "start_time": "2022-11-17T17:03:20.997Z"
   },
   {
    "duration": 5,
    "start_time": "2022-11-17T17:03:21.065Z"
   },
   {
    "duration": 40,
    "start_time": "2022-11-17T17:03:21.072Z"
   },
   {
    "duration": 8,
    "start_time": "2022-11-17T17:03:21.113Z"
   },
   {
    "duration": 11,
    "start_time": "2022-11-17T17:03:21.125Z"
   },
   {
    "duration": 18,
    "start_time": "2022-11-17T17:03:21.138Z"
   },
   {
    "duration": 11,
    "start_time": "2022-11-17T17:03:21.157Z"
   },
   {
    "duration": 6,
    "start_time": "2022-11-17T17:03:21.169Z"
   },
   {
    "duration": 11,
    "start_time": "2022-11-17T17:03:21.176Z"
   },
   {
    "duration": 13,
    "start_time": "2022-11-17T17:03:21.212Z"
   },
   {
    "duration": 11,
    "start_time": "2022-11-17T17:03:21.226Z"
   },
   {
    "duration": 47,
    "start_time": "2022-11-17T17:03:21.238Z"
   },
   {
    "duration": 8,
    "start_time": "2022-11-17T17:03:21.286Z"
   },
   {
    "duration": 11,
    "start_time": "2022-11-17T17:03:21.295Z"
   },
   {
    "duration": 10,
    "start_time": "2022-11-17T17:03:21.307Z"
   },
   {
    "duration": 10,
    "start_time": "2022-11-17T17:03:21.318Z"
   },
   {
    "duration": 8,
    "start_time": "2022-11-17T17:03:21.330Z"
   },
   {
    "duration": 14,
    "start_time": "2022-11-17T17:03:21.339Z"
   },
   {
    "duration": 12,
    "start_time": "2022-11-17T17:03:21.355Z"
   },
   {
    "duration": 11,
    "start_time": "2022-11-17T17:03:21.368Z"
   },
   {
    "duration": 5,
    "start_time": "2022-11-17T17:03:21.381Z"
   },
   {
    "duration": 175,
    "start_time": "2022-11-17T17:03:21.387Z"
   },
   {
    "duration": 121,
    "start_time": "2022-11-17T17:03:21.565Z"
   },
   {
    "duration": 11,
    "start_time": "2022-11-17T17:03:21.688Z"
   },
   {
    "duration": 320,
    "start_time": "2022-11-17T17:03:21.713Z"
   },
   {
    "duration": 15,
    "start_time": "2022-11-17T17:03:22.035Z"
   },
   {
    "duration": 286,
    "start_time": "2022-11-17T17:03:22.051Z"
   },
   {
    "duration": 329,
    "start_time": "2022-11-17T17:03:22.339Z"
   },
   {
    "duration": 255,
    "start_time": "2022-11-17T17:03:22.670Z"
   },
   {
    "duration": 346,
    "start_time": "2022-11-17T17:03:22.927Z"
   },
   {
    "duration": 442,
    "start_time": "2022-11-17T17:03:23.275Z"
   },
   {
    "duration": 192,
    "start_time": "2022-11-17T17:03:23.719Z"
   },
   {
    "duration": 5,
    "start_time": "2022-11-17T17:03:23.913Z"
   },
   {
    "duration": 8,
    "start_time": "2022-11-17T17:03:23.919Z"
   },
   {
    "duration": 411,
    "start_time": "2022-11-17T17:03:23.928Z"
   },
   {
    "duration": 423,
    "start_time": "2022-11-17T17:03:24.341Z"
   },
   {
    "duration": 5,
    "start_time": "2022-11-17T17:03:24.766Z"
   },
   {
    "duration": 228,
    "start_time": "2022-11-17T17:03:24.773Z"
   },
   {
    "duration": 144,
    "start_time": "2022-11-17T17:03:25.002Z"
   },
   {
    "duration": 8,
    "start_time": "2022-11-17T17:03:25.147Z"
   },
   {
    "duration": 158,
    "start_time": "2022-11-17T17:03:25.156Z"
   },
   {
    "duration": 19,
    "start_time": "2022-11-17T17:03:25.315Z"
   },
   {
    "duration": 10,
    "start_time": "2022-11-17T17:03:25.335Z"
   },
   {
    "duration": 9,
    "start_time": "2022-11-17T17:03:25.347Z"
   },
   {
    "duration": 25,
    "start_time": "2022-11-17T17:03:25.357Z"
   },
   {
    "duration": 42,
    "start_time": "2022-11-17T17:03:25.384Z"
   },
   {
    "duration": 10,
    "start_time": "2022-11-17T17:06:35.450Z"
   },
   {
    "duration": 1011,
    "start_time": "2022-11-17T17:06:46.893Z"
   },
   {
    "duration": 104,
    "start_time": "2022-11-17T17:06:47.906Z"
   },
   {
    "duration": 11,
    "start_time": "2022-11-17T17:06:48.011Z"
   },
   {
    "duration": 8,
    "start_time": "2022-11-17T17:06:48.025Z"
   },
   {
    "duration": 13,
    "start_time": "2022-11-17T17:06:48.035Z"
   },
   {
    "duration": 65,
    "start_time": "2022-11-17T17:06:48.050Z"
   },
   {
    "duration": 5,
    "start_time": "2022-11-17T17:06:48.117Z"
   },
   {
    "duration": 42,
    "start_time": "2022-11-17T17:06:48.124Z"
   },
   {
    "duration": 8,
    "start_time": "2022-11-17T17:06:48.167Z"
   },
   {
    "duration": 11,
    "start_time": "2022-11-17T17:06:48.179Z"
   },
   {
    "duration": 13,
    "start_time": "2022-11-17T17:06:48.191Z"
   },
   {
    "duration": 9,
    "start_time": "2022-11-17T17:06:48.205Z"
   },
   {
    "duration": 5,
    "start_time": "2022-11-17T17:06:48.216Z"
   },
   {
    "duration": 12,
    "start_time": "2022-11-17T17:06:48.223Z"
   },
   {
    "duration": 12,
    "start_time": "2022-11-17T17:06:48.236Z"
   },
   {
    "duration": 6,
    "start_time": "2022-11-17T17:06:48.250Z"
   },
   {
    "duration": 41,
    "start_time": "2022-11-17T17:06:48.257Z"
   },
   {
    "duration": 7,
    "start_time": "2022-11-17T17:06:48.299Z"
   },
   {
    "duration": 10,
    "start_time": "2022-11-17T17:06:48.312Z"
   },
   {
    "duration": 12,
    "start_time": "2022-11-17T17:06:48.324Z"
   },
   {
    "duration": 14,
    "start_time": "2022-11-17T17:06:48.337Z"
   },
   {
    "duration": 9,
    "start_time": "2022-11-17T17:06:48.353Z"
   },
   {
    "duration": 13,
    "start_time": "2022-11-17T17:06:48.364Z"
   },
   {
    "duration": 33,
    "start_time": "2022-11-17T17:06:48.379Z"
   },
   {
    "duration": 12,
    "start_time": "2022-11-17T17:06:48.414Z"
   },
   {
    "duration": 5,
    "start_time": "2022-11-17T17:06:48.427Z"
   },
   {
    "duration": 174,
    "start_time": "2022-11-17T17:06:48.434Z"
   },
   {
    "duration": 140,
    "start_time": "2022-11-17T17:06:48.612Z"
   },
   {
    "duration": 11,
    "start_time": "2022-11-17T17:06:48.754Z"
   },
   {
    "duration": 358,
    "start_time": "2022-11-17T17:06:48.767Z"
   },
   {
    "duration": 16,
    "start_time": "2022-11-17T17:06:49.126Z"
   },
   {
    "duration": 290,
    "start_time": "2022-11-17T17:06:49.143Z"
   },
   {
    "duration": 318,
    "start_time": "2022-11-17T17:06:49.437Z"
   },
   {
    "duration": 271,
    "start_time": "2022-11-17T17:06:49.757Z"
   },
   {
    "duration": 398,
    "start_time": "2022-11-17T17:06:50.029Z"
   },
   {
    "duration": 407,
    "start_time": "2022-11-17T17:06:50.430Z"
   },
   {
    "duration": 206,
    "start_time": "2022-11-17T17:06:50.839Z"
   },
   {
    "duration": 5,
    "start_time": "2022-11-17T17:06:51.046Z"
   },
   {
    "duration": 19,
    "start_time": "2022-11-17T17:06:51.052Z"
   },
   {
    "duration": 447,
    "start_time": "2022-11-17T17:06:51.072Z"
   },
   {
    "duration": 331,
    "start_time": "2022-11-17T17:06:51.521Z"
   },
   {
    "duration": 5,
    "start_time": "2022-11-17T17:06:51.854Z"
   },
   {
    "duration": 213,
    "start_time": "2022-11-17T17:06:51.861Z"
   },
   {
    "duration": 118,
    "start_time": "2022-11-17T17:06:52.075Z"
   },
   {
    "duration": 8,
    "start_time": "2022-11-17T17:06:52.194Z"
   },
   {
    "duration": 126,
    "start_time": "2022-11-17T17:06:52.213Z"
   },
   {
    "duration": 19,
    "start_time": "2022-11-17T17:06:52.341Z"
   },
   {
    "duration": 11,
    "start_time": "2022-11-17T17:06:52.361Z"
   },
   {
    "duration": 9,
    "start_time": "2022-11-17T17:06:52.373Z"
   },
   {
    "duration": 50,
    "start_time": "2022-11-17T17:06:52.384Z"
   },
   {
    "duration": 15,
    "start_time": "2022-11-17T17:06:52.435Z"
   },
   {
    "duration": 946,
    "start_time": "2022-11-18T09:23:28.357Z"
   },
   {
    "duration": 113,
    "start_time": "2022-11-18T09:23:29.304Z"
   },
   {
    "duration": 10,
    "start_time": "2022-11-18T09:23:29.418Z"
   },
   {
    "duration": 8,
    "start_time": "2022-11-18T09:23:29.430Z"
   },
   {
    "duration": 12,
    "start_time": "2022-11-18T09:23:29.439Z"
   },
   {
    "duration": 46,
    "start_time": "2022-11-18T09:23:29.452Z"
   },
   {
    "duration": 4,
    "start_time": "2022-11-18T09:23:29.499Z"
   },
   {
    "duration": 100,
    "start_time": "2022-11-18T09:23:29.505Z"
   },
   {
    "duration": 7,
    "start_time": "2022-11-18T09:23:29.606Z"
   },
   {
    "duration": 10,
    "start_time": "2022-11-18T09:23:29.616Z"
   },
   {
    "duration": 15,
    "start_time": "2022-11-18T09:23:29.627Z"
   },
   {
    "duration": 15,
    "start_time": "2022-11-18T09:23:29.643Z"
   },
   {
    "duration": 8,
    "start_time": "2022-11-18T09:23:29.659Z"
   },
   {
    "duration": 12,
    "start_time": "2022-11-18T09:23:29.668Z"
   },
   {
    "duration": 17,
    "start_time": "2022-11-18T09:23:29.681Z"
   },
   {
    "duration": 4,
    "start_time": "2022-11-18T09:23:29.699Z"
   },
   {
    "duration": 101,
    "start_time": "2022-11-18T09:23:29.705Z"
   },
   {
    "duration": 6,
    "start_time": "2022-11-18T09:23:29.808Z"
   },
   {
    "duration": 14,
    "start_time": "2022-11-18T09:23:29.815Z"
   },
   {
    "duration": 13,
    "start_time": "2022-11-18T09:23:29.830Z"
   },
   {
    "duration": 10,
    "start_time": "2022-11-18T09:23:29.844Z"
   },
   {
    "duration": 6,
    "start_time": "2022-11-18T09:23:29.856Z"
   },
   {
    "duration": 15,
    "start_time": "2022-11-18T09:23:29.863Z"
   },
   {
    "duration": 30,
    "start_time": "2022-11-18T09:23:29.879Z"
   },
   {
    "duration": 10,
    "start_time": "2022-11-18T09:23:29.911Z"
   },
   {
    "duration": 6,
    "start_time": "2022-11-18T09:23:29.922Z"
   },
   {
    "duration": 175,
    "start_time": "2022-11-18T09:23:29.929Z"
   },
   {
    "duration": 119,
    "start_time": "2022-11-18T09:23:30.107Z"
   },
   {
    "duration": 11,
    "start_time": "2022-11-18T09:23:30.227Z"
   },
   {
    "duration": 340,
    "start_time": "2022-11-18T09:23:30.240Z"
   },
   {
    "duration": 24,
    "start_time": "2022-11-18T09:23:30.582Z"
   },
   {
    "duration": 302,
    "start_time": "2022-11-18T09:23:30.608Z"
   },
   {
    "duration": 344,
    "start_time": "2022-11-18T09:23:30.911Z"
   },
   {
    "duration": 275,
    "start_time": "2022-11-18T09:23:31.257Z"
   },
   {
    "duration": 317,
    "start_time": "2022-11-18T09:23:31.534Z"
   },
   {
    "duration": 368,
    "start_time": "2022-11-18T09:23:31.853Z"
   },
   {
    "duration": 220,
    "start_time": "2022-11-18T09:23:32.222Z"
   },
   {
    "duration": 4,
    "start_time": "2022-11-18T09:23:32.443Z"
   },
   {
    "duration": 7,
    "start_time": "2022-11-18T09:23:32.449Z"
   },
   {
    "duration": 468,
    "start_time": "2022-11-18T09:23:32.457Z"
   },
   {
    "duration": 320,
    "start_time": "2022-11-18T09:23:32.926Z"
   },
   {
    "duration": 5,
    "start_time": "2022-11-18T09:23:33.248Z"
   },
   {
    "duration": 208,
    "start_time": "2022-11-18T09:23:33.254Z"
   },
   {
    "duration": 116,
    "start_time": "2022-11-18T09:23:33.463Z"
   },
   {
    "duration": 18,
    "start_time": "2022-11-18T09:23:33.580Z"
   },
   {
    "duration": 112,
    "start_time": "2022-11-18T09:23:33.600Z"
   },
   {
    "duration": 21,
    "start_time": "2022-11-18T09:23:33.714Z"
   },
   {
    "duration": 10,
    "start_time": "2022-11-18T09:23:33.737Z"
   },
   {
    "duration": 12,
    "start_time": "2022-11-18T09:23:33.748Z"
   },
   {
    "duration": 45,
    "start_time": "2022-11-18T09:23:33.761Z"
   },
   {
    "duration": 12,
    "start_time": "2022-11-18T09:23:33.807Z"
   }
  ],
  "kernelspec": {
   "display_name": "Python 3 (ipykernel)",
   "language": "python",
   "name": "python3"
  },
  "language_info": {
   "codemirror_mode": {
    "name": "ipython",
    "version": 3
   },
   "file_extension": ".py",
   "mimetype": "text/x-python",
   "name": "python",
   "nbconvert_exporter": "python",
   "pygments_lexer": "ipython3",
   "version": "3.9.12"
  },
  "toc": {
   "base_numbering": 1,
   "nav_menu": {},
   "number_sections": true,
   "sideBar": true,
   "skip_h1_title": false,
   "title_cell": "Table of Contents",
   "title_sidebar": "Contents",
   "toc_cell": false,
   "toc_position": {},
   "toc_section_display": true,
   "toc_window_display": true
  },
  "varInspector": {
   "cols": {
    "lenName": 16,
    "lenType": 16,
    "lenVar": 40
   },
   "kernels_config": {
    "python": {
     "delete_cmd_postfix": "",
     "delete_cmd_prefix": "del ",
     "library": "var_list.py",
     "varRefreshCmd": "print(var_dic_list())"
    },
    "r": {
     "delete_cmd_postfix": ") ",
     "delete_cmd_prefix": "rm(",
     "library": "var_list.r",
     "varRefreshCmd": "cat(var_dic_list()) "
    }
   },
   "types_to_exclude": [
    "module",
    "function",
    "builtin_function_or_method",
    "instance",
    "_Feature"
   ],
   "window_display": false
  }
 },
 "nbformat": 4,
 "nbformat_minor": 5
}
